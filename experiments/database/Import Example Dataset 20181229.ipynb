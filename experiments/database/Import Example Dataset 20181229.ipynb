{
 "cells": [
  {
   "cell_type": "code",
   "execution_count": null,
   "metadata": {},
   "outputs": [],
   "source": [
    "from os.path import exists\n",
    "from urllib.request import urlretrieve\n",
    "archive_url = 'https://egriddata.org/sites/default/files/GSO_RNM_GIS_Network.zip'\n",
    "archive_path = '/tmp/greensboro-synthetic-network.zip'\n",
    "if not exists(archive_path):\n",
    "    urlretrieve(archive_url, archive_path);"
   ]
  },
  {
   "cell_type": "code",
   "execution_count": null,
   "metadata": {},
   "outputs": [],
   "source": [
    "from invisibleroads_macros.disk import uncompress\n",
    "from os.path import exists, splitext\n",
    "archive_folder = splitext(archive_path)[0]\n",
    "if not exists(archive_folder):\n",
    "    archive_folder = uncompress(archive_path)"
   ]
  },
  {
   "cell_type": "code",
   "execution_count": null,
   "metadata": {},
   "outputs": [],
   "source": [
    "from os.path import join\n",
    "source_folder = join(archive_folder, 'GSO_RNM_GIS_Network', 'Rural')"
   ]
  },
  {
   "cell_type": "code",
   "execution_count": null,
   "metadata": {},
   "outputs": [],
   "source": [
    "ls $source_folder/*.shp"
   ]
  },
  {
   "cell_type": "code",
   "execution_count": null,
   "metadata": {},
   "outputs": [],
   "source": [
    "import geotable"
   ]
  },
  {
   "cell_type": "code",
   "execution_count": null,
   "metadata": {},
   "outputs": [],
   "source": [
    "from glob import glob\n",
    "from invisibleroads_macros.disk import get_file_stem\n",
    "from os.path import join\n",
    "for path in glob(join(source_folder, '*.shp')):\n",
    "    t = geotable.load(path)\n",
    "    print(get_file_stem(path))\n",
    "    print(' '.join(sorted(t.columns)))"
   ]
  },
  {
   "cell_type": "code",
   "execution_count": null,
   "metadata": {},
   "outputs": [],
   "source": [
    "t = geotable.load('/tmp/greensboro-synthetic-network/GSO_RNM_GIS_Network/Rural/DummyEquip.shp')\n",
    "t.iloc[0]"
   ]
  },
  {
   "cell_type": "code",
   "execution_count": null,
   "metadata": {},
   "outputs": [],
   "source": [
    "t[t['Node'] == 'S_nCCTT6_BT']"
   ]
  },
  {
   "cell_type": "code",
   "execution_count": null,
   "metadata": {},
   "outputs": [],
   "source": [
    "t = geotable.load('/tmp/greensboro-synthetic-network/GSO_RNM_GIS_Network/Rural/StreetMap_nodes.shp')\n",
    "t.iloc[0]"
   ]
  },
  {
   "cell_type": "code",
   "execution_count": null,
   "metadata": {},
   "outputs": [],
   "source": [
    "t = geotable.load('/tmp/greensboro-synthetic-network/GSO_RNM_GIS_Network/Rural/StreetMap_branches.shp')\n",
    "t.iloc[0]"
   ]
  },
  {
   "cell_type": "code",
   "execution_count": null,
   "metadata": {},
   "outputs": [],
   "source": [
    "t = geotable.load('/tmp/greensboro-synthetic-network/GSO_RNM_GIS_Network/Rural/Network_nodes.shp')\n",
    "t.iloc[0]"
   ]
  },
  {
   "cell_type": "code",
   "execution_count": null,
   "metadata": {},
   "outputs": [],
   "source": [
    "' '.join(x for x in t['Node'].unique() if not x.startswith('RCLV') and not x.startswith('S_nCC'))"
   ]
  },
  {
   "cell_type": "code",
   "execution_count": null,
   "metadata": {},
   "outputs": [],
   "source": [
    "t = geotable.load('/tmp/greensboro-synthetic-network/GSO_RNM_GIS_Network/Rural/Network_NEW_nodes.shp')\n",
    "t.iloc[0]"
   ]
  },
  {
   "cell_type": "code",
   "execution_count": null,
   "metadata": {},
   "outputs": [],
   "source": [
    "' '.join(\n",
    "    x for x in t['Node'].unique() if not \n",
    "    x.startswith('RCLV') and not \n",
    "    x.startswith('S_nCC') and not \n",
    "    x.startswith('S_Dummy'))"
   ]
  },
  {
   "cell_type": "code",
   "execution_count": null,
   "metadata": {},
   "outputs": [],
   "source": [
    "t = geotable.load('/tmp/greensboro-synthetic-network/GSO_RNM_GIS_Network/Rural/Network_NEW_branches.shp')\n",
    "t.iloc[0]"
   ]
  },
  {
   "cell_type": "code",
   "execution_count": null,
   "metadata": {},
   "outputs": [],
   "source": []
  },
  {
   "cell_type": "code",
   "execution_count": null,
   "metadata": {},
   "outputs": [],
   "source": [
    "t = geotable.load('/tmp/greensboro-synthetic-network/GSO_RNM_GIS_Network/Rural/Line_N.shp')"
   ]
  },
  {
   "cell_type": "code",
   "execution_count": null,
   "metadata": {},
   "outputs": [],
   "source": [
    "t[t['NodeA'] == 'S_nCCTT6']"
   ]
  },
  {
   "cell_type": "code",
   "execution_count": null,
   "metadata": {},
   "outputs": [],
   "source": [
    "t[t['NodeB'] == 'S_nCCTT6']"
   ]
  },
  {
   "cell_type": "code",
   "execution_count": null,
   "metadata": {},
   "outputs": [],
   "source": [
    "t = geotable.load('/tmp/greensboro-synthetic-network/GSO_RNM_GIS_Network/Rural/DummyEquip.shp')\n",
    "len(t)"
   ]
  },
  {
   "cell_type": "code",
   "execution_count": null,
   "metadata": {},
   "outputs": [],
   "source": [
    "source_folder"
   ]
  },
  {
   "cell_type": "code",
   "execution_count": null,
   "metadata": {},
   "outputs": [],
   "source": [
    "from glob import glob\n",
    "from os.path import join\n",
    "glob(join(source_folder, '*.shp'))"
   ]
  },
  {
   "cell_type": "code",
   "execution_count": null,
   "metadata": {},
   "outputs": [],
   "source": [
    "# Make table of path_by_code\n",
    "from collections import defaultdict\n",
    "paths_by_code = defaultdict(list)\n",
    "for path in glob(join(source_folder, '*.shp')):\n",
    "    t = geotable.load(path)\n",
    "    for i, r in t.iterrows():\n",
    "        if 'Code' in r:\n",
    "            code = r['Code']\n",
    "        elif 'Node' in r:\n",
    "            code = r['Node']\n",
    "        else:\n",
    "            continue\n",
    "        paths_by_code[code].append(path)"
   ]
  },
  {
   "cell_type": "code",
   "execution_count": null,
   "metadata": {},
   "outputs": [],
   "source": [
    "paths_by_code['S_nCCTT6_BT']"
   ]
  },
  {
   "cell_type": "code",
   "execution_count": null,
   "metadata": {},
   "outputs": [],
   "source": [
    "\"\"\"\n",
    "# Miscellaneous\n",
    "/tmp/greensboro-synthetic-network/GSO_RNM_GIS_Network/Rural/Network_nodes.shp\n",
    "/tmp/greensboro-synthetic-network/GSO_RNM_GIS_Network/Rural/Network_NEW_nodes.shp\n",
    "/tmp/greensboro-synthetic-network/GSO_RNM_GIS_Network/Rural/Network_NEW_branches.shp\n",
    "/tmp/greensboro-synthetic-network/GSO_RNM_GIS_Network/Rural/DummyEquip.shp\n",
    "# Station\n",
    "# Substation\n",
    "/tmp/greensboro-synthetic-network/GSO_RNM_GIS_Network/Rural/TransSubstation_N.shp\n",
    "/tmp/greensboro-synthetic-network/GSO_RNM_GIS_Network/Rural/HVMVSubstation_N.shp\n",
    "# Quality\n",
    "/tmp/greensboro-synthetic-network/GSO_RNM_GIS_Network/Rural/VoltageRegulator_N.shp\n",
    "# Switch\n",
    "/tmp/greensboro-synthetic-network/GSO_RNM_GIS_Network/Rural/SwitchingDevices_N.shp\n",
    "# Transformer\n",
    "/tmp/greensboro-synthetic-network/GSO_RNM_GIS_Network/Rural/DistribTransf_N.shp\n",
    "/tmp/greensboro-synthetic-network/GSO_RNM_GIS_Network/Rural/Transformer_N.shp\n",
    "# Meter\n",
    "/tmp/greensboro-synthetic-network/GSO_RNM_GIS_Network/Rural/NewConsumerGreenfield_N.shp\n",
    "# Line\n",
    "/tmp/greensboro-synthetic-network/GSO_RNM_GIS_Network/Rural/Line_N.shp\n",
    "# Pole\n",
    "# Busbar\n",
    "# Control\n",
    "\"\"\";"
   ]
  },
  {
   "cell_type": "code",
   "execution_count": null,
   "metadata": {},
   "outputs": [],
   "source": [
    "source_proj4 = '+proj=utm +zone=17 +ellps=GRS80 +datum=NAD83 +units=m +no_defs'\n",
    "target_proj4 = geotable.LONGITUDE_LATITUDE_PROJ4"
   ]
  },
  {
   "cell_type": "code",
   "execution_count": null,
   "metadata": {},
   "outputs": [],
   "source": [
    "for i, r in t.iterrows():\n",
    "    break"
   ]
  },
  {
   "cell_type": "code",
   "execution_count": null,
   "metadata": {},
   "outputs": [],
   "source": [
    "dict(r)"
   ]
  },
  {
   "cell_type": "code",
   "execution_count": null,
   "metadata": {},
   "outputs": [],
   "source": [
    "r.get('x', 1)"
   ]
  },
  {
   "cell_type": "code",
   "execution_count": null,
   "metadata": {},
   "outputs": [],
   "source": [
    "r.get('y') is None"
   ]
  },
  {
   "cell_type": "code",
   "execution_count": null,
   "metadata": {},
   "outputs": [],
   "source": [
    "r.pop('Node')"
   ]
  },
  {
   "cell_type": "code",
   "execution_count": null,
   "metadata": {},
   "outputs": [],
   "source": [
    "d = {}"
   ]
  },
  {
   "cell_type": "code",
   "execution_count": null,
   "metadata": {},
   "outputs": [],
   "source": [
    "d.pop?"
   ]
  },
  {
   "cell_type": "code",
   "execution_count": null,
   "metadata": {},
   "outputs": [],
   "source": [
    "d.pop('x', None)"
   ]
  },
  {
   "cell_type": "code",
   "execution_count": null,
   "metadata": {},
   "outputs": [],
   "source": [
    "from collections import OrderedDict\n",
    "from models import AssetType\n",
    "paths_by_type = OrderedDict()\n",
    "paths_by_type[AssetType.Miscellaneous] = [\n",
    "    '/tmp/greensboro-synthetic-network/GSO_RNM_GIS_Network/Rural/Network_nodes.shp',\n",
    "    '/tmp/greensboro-synthetic-network/GSO_RNM_GIS_Network/Rural/Network_NEW_nodes.shp',\n",
    "    '/tmp/greensboro-synthetic-network/GSO_RNM_GIS_Network/Rural/Network_NEW_branches.shp',\n",
    "    '/tmp/greensboro-synthetic-network/GSO_RNM_GIS_Network/Rural/DummyEquip.shp',\n",
    "]\n",
    "paths_by_type[AssetType.Substation] = [\n",
    "    '/tmp/greensboro-synthetic-network/GSO_RNM_GIS_Network/Rural/TransSubstation_N.shp',\n",
    "    '/tmp/greensboro-synthetic-network/GSO_RNM_GIS_Network/Rural/HVMVSubstation_N.shp',\n",
    "]\n",
    "paths_by_type[AssetType.Quality] = [\n",
    "    '/tmp/greensboro-synthetic-network/GSO_RNM_GIS_Network/Rural/VoltageRegulator_N.shp',\n",
    "]\n",
    "paths_by_type[AssetType.Switch] = [\n",
    "    '/tmp/greensboro-synthetic-network/GSO_RNM_GIS_Network/Rural/SwitchingDevices_N.shp',\n",
    "]\n",
    "paths_by_type[AssetType.Transformer] = [\n",
    "    '/tmp/greensboro-synthetic-network/GSO_RNM_GIS_Network/Rural/DistribTransf_N.shp',\n",
    "    '/tmp/greensboro-synthetic-network/GSO_RNM_GIS_Network/Rural/Transformer_N.shp',\n",
    "]\n",
    "paths_by_type[AssetType.Meter] = [\n",
    "    '/tmp/greensboro-synthetic-network/GSO_RNM_GIS_Network/Rural/NewConsumerGreenfield_N.shp',\n",
    "]\n",
    "paths_by_type[AssetType.Line] = [\n",
    "    '/tmp/greensboro-synthetic-network/GSO_RNM_GIS_Network/Rural/Line_N.shp',\n",
    "]"
   ]
  },
  {
   "cell_type": "code",
   "execution_count": null,
   "metadata": {},
   "outputs": [],
   "source": [
    "import networkx as nx\n",
    "g = nx.Graph()"
   ]
  },
  {
   "cell_type": "code",
   "execution_count": null,
   "metadata": {},
   "outputs": [],
   "source": [
    "g.add_node(1, x=1, y=2)"
   ]
  },
  {
   "cell_type": "code",
   "execution_count": null,
   "metadata": {},
   "outputs": [],
   "source": [
    "g.nodes[1]"
   ]
  },
  {
   "cell_type": "code",
   "execution_count": null,
   "metadata": {},
   "outputs": [],
   "source": [
    "g.add_node(1, x=2, z=2)"
   ]
  },
  {
   "cell_type": "code",
   "execution_count": null,
   "metadata": {},
   "outputs": [],
   "source": [
    "g.nodes[1]"
   ]
  },
  {
   "cell_type": "code",
   "execution_count": null,
   "metadata": {},
   "outputs": [],
   "source": [
    "def import_geotable(geotable_path, asset_type):\n",
    "    t = geotable.load(geotable_path, source_proj4=source_proj4, target_proj4=target_proj4)\n",
    "    for i, r in t.iterrows():\n",
    "        d = dict(r)\n",
    "        d['asset_type'] = asset_type\n",
    "        del d['geometry_layer']\n",
    "        del d['geometry_proj4']\n",
    "        # Add node\n",
    "        node = d.get('Node', d.get('Code', None))\n",
    "        if node is not None:\n",
    "            try:\n",
    "                del d['Node']\n",
    "            except KeyError:\n",
    "                pass\n",
    "            try:\n",
    "                del d['Code']\n",
    "            except KeyError:\n",
    "                pass\n",
    "            g.add_node(node, **d)\n",
    "        # Add edge\n",
    "        node_a = d.pop('NodeA', d.pop('Node_A', None))\n",
    "        node_b = d.pop('NodeB', d.pop('Node_B', None))\n",
    "        if node_a is not None and node_b is not None:\n",
    "            if node:\n",
    "                g.add_edge(node_a, node)\n",
    "                g.add_edge(node, node_b)\n",
    "            else:\n",
    "                g.add_edge(node_a, node_b)"
   ]
  },
  {
   "cell_type": "code",
   "execution_count": null,
   "metadata": {},
   "outputs": [],
   "source": [
    "import networkx as nx\n",
    "g = nx.Graph()\n",
    "for asset_type, geotable_paths in paths_by_type.items():\n",
    "    for p in geotable_paths:\n",
    "        import_geotable(p, asset_type)\n",
    "        print(asset_type, p)"
   ]
  },
  {
   "cell_type": "code",
   "execution_count": null,
   "metadata": {},
   "outputs": [],
   "source": [
    "import networkx as nx\n",
    "nx.write_gpickle(g, 'example.pkl', -1)"
   ]
  },
  {
   "cell_type": "code",
   "execution_count": null,
   "metadata": {},
   "outputs": [],
   "source": [
    "# Update database\n",
    "from invisibleroads_macros.disk import remove_safely\n",
    "from models import Asset, AssetType, configure_database\n",
    "database_path = remove_safely('greensboro-rural-20181230.sqlite')\n",
    "database = configure_database('sqlite:///%s' % database_path)"
   ]
  },
  {
   "cell_type": "code",
   "execution_count": null,
   "metadata": {},
   "outputs": [],
   "source": [
    "from invisibleroads_macros.security import make_random_string\n",
    "make_random_string(32)"
   ]
  },
  {
   "cell_type": "code",
   "execution_count": null,
   "metadata": {},
   "outputs": [],
   "source": [
    "# Add assets\n",
    "for name, d in g.nodes(data=True):\n",
    "    d = dict(d)\n",
    "    asset = Asset(\n",
    "        id=make_random_string(16),\n",
    "        name=name,\n",
    "        type=d.pop('asset_type'),\n",
    "        geometry=d.pop('geometry_object'),\n",
    "        properties=d)\n",
    "    database.add(asset)\n",
    "database.flush()"
   ]
  },
  {
   "cell_type": "code",
   "execution_count": null,
   "metadata": {},
   "outputs": [],
   "source": [
    "asset_by_name = {}\n",
    "for asset in database.query(Asset):\n",
    "    asset_by_name[asset.name] = asset"
   ]
  },
  {
   "cell_type": "code",
   "execution_count": null,
   "metadata": {},
   "outputs": [],
   "source": [
    "# Add connections\n",
    "for name1, name2 in g.edges:\n",
    "    asset1 = asset_by_name[name1]\n",
    "    asset2 = asset_by_name[name2]\n",
    "    if asset1 is not None and asset2 is not None:\n",
    "        asset1.add_connection(asset2)"
   ]
  },
  {
   "cell_type": "code",
   "execution_count": null,
   "metadata": {},
   "outputs": [],
   "source": [
    "database.commit()"
   ]
  },
  {
   "cell_type": "code",
   "execution_count": null,
   "metadata": {},
   "outputs": [],
   "source": [
    "# Add contents\n",
    "from collections import defaultdict\n",
    "from shapely.geometry import Point\n",
    "\n",
    "line_assets_by_pole_xy = defaultdict(list)\n",
    "for line_asset in database.query(Asset).filter_by(type=AssetType.Line):\n",
    "    for xy in line_asset.geometry.coords:\n",
    "        line_assets_by_pole_xy[xy].append(line_asset)\n",
    "for pole_xy, line_assets in line_assets_by_pole_xy.items():\n",
    "    pole_asset = Asset(\n",
    "        id=make_random_string(16),\n",
    "        name='p%s' % id,\n",
    "        type=AssetType.Pole,\n",
    "        geometry=Point(pole_xy))\n",
    "    \"\"\"\n",
    "    line_count = len(line_assets)\n",
    "    if line_count > 1:\n",
    "        print(pole_xy, line_count)\n",
    "    \"\"\"\n",
    "    for line_asset in line_assets:\n",
    "        line_asset.add_content(pole_asset)\n",
    "    database.add(pole_asset)"
   ]
  },
  {
   "cell_type": "code",
   "execution_count": null,
   "metadata": {},
   "outputs": [],
   "source": [
    "database.commit()"
   ]
  },
  {
   "cell_type": "code",
   "execution_count": null,
   "metadata": {},
   "outputs": [],
   "source": [
    "for asset_type in AssetType:\n",
    "    asset_count = database.query(Asset).filter_by(type=asset_type).count()\n",
    "    print(asset_type, asset_count)"
   ]
  }
 ],
 "metadata": {
  "kernelspec": {
   "display_name": "Python 3",
   "language": "python",
   "name": "python3"
  },
  "language_info": {
   "codemirror_mode": {
    "name": "ipython",
    "version": 3
   },
   "file_extension": ".py",
   "mimetype": "text/x-python",
   "name": "python",
   "nbconvert_exporter": "python",
   "pygments_lexer": "ipython3",
   "version": "3.6.5"
  }
 },
 "nbformat": 4,
 "nbformat_minor": 2
}
