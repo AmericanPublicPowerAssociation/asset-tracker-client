{
 "cells": [
  {
   "cell_type": "code",
   "execution_count": 4,
   "metadata": {},
   "outputs": [],
   "source": [
    "from os.path import exists\n",
    "from urllib.request import urlretrieve\n",
    "archive_url = 'https://egriddata.org/sites/default/files/GSO_RNM_GIS_Network.zip'\n",
    "archive_path = '/tmp/greensboro-synthetic-network.zip'\n",
    "if not exists(archive_path):\n",
    "    urlretrieve(archive_url, archive_path);"
   ]
  },
  {
   "cell_type": "code",
   "execution_count": 5,
   "metadata": {},
   "outputs": [
    {
     "ename": "BadArchive",
     "evalue": "archive unreadable (/tmp/greensboro-synthetic-network.zip)",
     "output_type": "error",
     "traceback": [
      "\u001b[0;31m---------------------------------------------------------------------------\u001b[0m",
      "\u001b[0;31mBadZipFile\u001b[0m                                Traceback (most recent call last)",
      "\u001b[0;32m~/.virtualenvs/crosscompute/lib/python3.6/site-packages/invisibleroads_macros/disk.py\u001b[0m in \u001b[0;36muncompress\u001b[0;34m(source_path, target_folder)\u001b[0m\n\u001b[1;32m    251\u001b[0m         \u001b[0;32mtry\u001b[0m\u001b[0;34m:\u001b[0m\u001b[0;34m\u001b[0m\u001b[0m\n\u001b[0;32m--> 252\u001b[0;31m             \u001b[0msource_file\u001b[0m \u001b[0;34m=\u001b[0m \u001b[0mzipfile\u001b[0m\u001b[0;34m.\u001b[0m\u001b[0mZipFile\u001b[0m\u001b[0;34m(\u001b[0m\u001b[0msource_path\u001b[0m\u001b[0;34m,\u001b[0m \u001b[0;34m'r'\u001b[0m\u001b[0;34m)\u001b[0m\u001b[0;34m\u001b[0m\u001b[0m\n\u001b[0m\u001b[1;32m    253\u001b[0m         \u001b[0;32mexcept\u001b[0m \u001b[0mzipfile\u001b[0m\u001b[0;34m.\u001b[0m\u001b[0mBadZipfile\u001b[0m\u001b[0;34m:\u001b[0m\u001b[0;34m\u001b[0m\u001b[0m\n",
      "\u001b[0;32m/usr/lib64/python3.6/zipfile.py\u001b[0m in \u001b[0;36m__init__\u001b[0;34m(self, file, mode, compression, allowZip64)\u001b[0m\n\u001b[1;32m   1107\u001b[0m             \u001b[0;32mif\u001b[0m \u001b[0mmode\u001b[0m \u001b[0;34m==\u001b[0m \u001b[0;34m'r'\u001b[0m\u001b[0;34m:\u001b[0m\u001b[0;34m\u001b[0m\u001b[0m\n\u001b[0;32m-> 1108\u001b[0;31m                 \u001b[0mself\u001b[0m\u001b[0;34m.\u001b[0m\u001b[0m_RealGetContents\u001b[0m\u001b[0;34m(\u001b[0m\u001b[0;34m)\u001b[0m\u001b[0;34m\u001b[0m\u001b[0m\n\u001b[0m\u001b[1;32m   1109\u001b[0m             \u001b[0;32melif\u001b[0m \u001b[0mmode\u001b[0m \u001b[0;32min\u001b[0m \u001b[0;34m(\u001b[0m\u001b[0;34m'w'\u001b[0m\u001b[0;34m,\u001b[0m \u001b[0;34m'x'\u001b[0m\u001b[0;34m)\u001b[0m\u001b[0;34m:\u001b[0m\u001b[0;34m\u001b[0m\u001b[0m\n",
      "\u001b[0;32m/usr/lib64/python3.6/zipfile.py\u001b[0m in \u001b[0;36m_RealGetContents\u001b[0;34m(self)\u001b[0m\n\u001b[1;32m   1174\u001b[0m         \u001b[0;32mif\u001b[0m \u001b[0;32mnot\u001b[0m \u001b[0mendrec\u001b[0m\u001b[0;34m:\u001b[0m\u001b[0;34m\u001b[0m\u001b[0m\n\u001b[0;32m-> 1175\u001b[0;31m             \u001b[0;32mraise\u001b[0m \u001b[0mBadZipFile\u001b[0m\u001b[0;34m(\u001b[0m\u001b[0;34m\"File is not a zip file\"\u001b[0m\u001b[0;34m)\u001b[0m\u001b[0;34m\u001b[0m\u001b[0m\n\u001b[0m\u001b[1;32m   1176\u001b[0m         \u001b[0;32mif\u001b[0m \u001b[0mself\u001b[0m\u001b[0;34m.\u001b[0m\u001b[0mdebug\u001b[0m \u001b[0;34m>\u001b[0m \u001b[0;36m1\u001b[0m\u001b[0;34m:\u001b[0m\u001b[0;34m\u001b[0m\u001b[0m\n",
      "\u001b[0;31mBadZipFile\u001b[0m: File is not a zip file",
      "\nDuring handling of the above exception, another exception occurred:\n",
      "\u001b[0;31mBadArchive\u001b[0m                                Traceback (most recent call last)",
      "\u001b[0;32m<ipython-input-5-8e1fc890053c>\u001b[0m in \u001b[0;36m<module>\u001b[0;34m()\u001b[0m\n\u001b[1;32m      3\u001b[0m \u001b[0marchive_folder\u001b[0m \u001b[0;34m=\u001b[0m \u001b[0msplitext\u001b[0m\u001b[0;34m(\u001b[0m\u001b[0marchive_path\u001b[0m\u001b[0;34m)\u001b[0m\u001b[0;34m[\u001b[0m\u001b[0;36m0\u001b[0m\u001b[0;34m]\u001b[0m\u001b[0;34m\u001b[0m\u001b[0m\n\u001b[1;32m      4\u001b[0m \u001b[0;32mif\u001b[0m \u001b[0;32mnot\u001b[0m \u001b[0mexists\u001b[0m\u001b[0;34m(\u001b[0m\u001b[0marchive_folder\u001b[0m\u001b[0;34m)\u001b[0m\u001b[0;34m:\u001b[0m\u001b[0;34m\u001b[0m\u001b[0m\n\u001b[0;32m----> 5\u001b[0;31m     \u001b[0marchive_folder\u001b[0m \u001b[0;34m=\u001b[0m \u001b[0muncompress\u001b[0m\u001b[0;34m(\u001b[0m\u001b[0marchive_path\u001b[0m\u001b[0;34m)\u001b[0m\u001b[0;34m\u001b[0m\u001b[0m\n\u001b[0m",
      "\u001b[0;32m~/.virtualenvs/crosscompute/lib/python3.6/site-packages/invisibleroads_macros/disk.py\u001b[0m in \u001b[0;36muncompress\u001b[0;34m(source_path, target_folder)\u001b[0m\n\u001b[1;32m    252\u001b[0m             \u001b[0msource_file\u001b[0m \u001b[0;34m=\u001b[0m \u001b[0mzipfile\u001b[0m\u001b[0;34m.\u001b[0m\u001b[0mZipFile\u001b[0m\u001b[0;34m(\u001b[0m\u001b[0msource_path\u001b[0m\u001b[0;34m,\u001b[0m \u001b[0;34m'r'\u001b[0m\u001b[0;34m)\u001b[0m\u001b[0;34m\u001b[0m\u001b[0m\n\u001b[1;32m    253\u001b[0m         \u001b[0;32mexcept\u001b[0m \u001b[0mzipfile\u001b[0m\u001b[0;34m.\u001b[0m\u001b[0mBadZipfile\u001b[0m\u001b[0;34m:\u001b[0m\u001b[0;34m\u001b[0m\u001b[0m\n\u001b[0;32m--> 254\u001b[0;31m             \u001b[0;32mraise\u001b[0m \u001b[0mBadArchive\u001b[0m\u001b[0;34m(\u001b[0m\u001b[0;34m'archive unreadable (%s)'\u001b[0m \u001b[0;34m%\u001b[0m \u001b[0msource_path\u001b[0m\u001b[0;34m)\u001b[0m\u001b[0;34m\u001b[0m\u001b[0m\n\u001b[0m\u001b[1;32m    255\u001b[0m         \u001b[0mextension_expression\u001b[0m \u001b[0;34m=\u001b[0m \u001b[0;34mr'\\.zip$'\u001b[0m\u001b[0;34m\u001b[0m\u001b[0m\n\u001b[1;32m    256\u001b[0m     \u001b[0;32melse\u001b[0m\u001b[0;34m:\u001b[0m\u001b[0;34m\u001b[0m\u001b[0m\n",
      "\u001b[0;31mBadArchive\u001b[0m: archive unreadable (/tmp/greensboro-synthetic-network.zip)"
     ]
    }
   ],
   "source": [
    "from invisibleroads_macros.disk import uncompress\n",
    "from os.path import exists, splitext\n",
    "archive_folder = splitext(archive_path)[0]\n",
    "if not exists(archive_folder):\n",
    "    archive_folder = uncompress(archive_path)"
   ]
  },
  {
   "cell_type": "code",
   "execution_count": null,
   "metadata": {},
   "outputs": [],
   "source": [
    "from os.path import join\n",
    "source_folder = join(archive_folder, 'GSO_RNM_GIS_Network', 'Rural')"
   ]
  },
  {
   "cell_type": "code",
   "execution_count": 4,
   "metadata": {},
   "outputs": [
    {
     "name": "stdout",
     "output_type": "stream",
     "text": [
      "/tmp/greensboro-synthetic-network/GSO_RNM_GIS_Network/Rural/DistribTransf_N.shp\n",
      "/tmp/greensboro-synthetic-network/GSO_RNM_GIS_Network/Rural/DummyEquip.shp\n",
      "/tmp/greensboro-synthetic-network/GSO_RNM_GIS_Network/Rural/HVMVSubstation_N.shp\n",
      "/tmp/greensboro-synthetic-network/GSO_RNM_GIS_Network/Rural/Line_N.shp\n",
      "/tmp/greensboro-synthetic-network/GSO_RNM_GIS_Network/Rural/Network_NEW_branches.shp\n",
      "/tmp/greensboro-synthetic-network/GSO_RNM_GIS_Network/Rural/Network_NEW_nodes.shp\n",
      "/tmp/greensboro-synthetic-network/GSO_RNM_GIS_Network/Rural/Network_nodes.shp\n",
      "/tmp/greensboro-synthetic-network/GSO_RNM_GIS_Network/Rural/NewConsumerGreenfield_N.shp\n",
      "/tmp/greensboro-synthetic-network/GSO_RNM_GIS_Network/Rural/StreetMap_branches.shp\n",
      "/tmp/greensboro-synthetic-network/GSO_RNM_GIS_Network/Rural/StreetMap_nodes.shp\n",
      "/tmp/greensboro-synthetic-network/GSO_RNM_GIS_Network/Rural/SwitchingDevices_N.shp\n",
      "/tmp/greensboro-synthetic-network/GSO_RNM_GIS_Network/Rural/Transformer_N.shp\n",
      "/tmp/greensboro-synthetic-network/GSO_RNM_GIS_Network/Rural/TransSubstation_N.shp\n",
      "/tmp/greensboro-synthetic-network/GSO_RNM_GIS_Network/Rural/VoltageRegulator_N.shp\n"
     ]
    }
   ],
   "source": [
    "ls $source_folder/*.shp"
   ]
  },
  {
   "cell_type": "code",
   "execution_count": 5,
   "metadata": {},
   "outputs": [],
   "source": [
    "import geotable"
   ]
  },
  {
   "cell_type": "code",
   "execution_count": 6,
   "metadata": {},
   "outputs": [
    {
     "name": "stdout",
     "output_type": "stream",
     "text": [
      "VoltageRegulator_N\n",
      "Branch CMainC Code Feeder InvC NodeA NodeB PMainC PMainT Rsc Stage Subest Tap(pu) TapMax TapMin Xsc Y11(pu) Y12(pu) Y21(pu) Y22(pu) geometry_layer geometry_object geometry_proj4\n",
      "TransSubstation_N\n",
      "CMainC Code E_kWh Equip InvC InvCOut MaxNumOut NmaxTransf Node NomV_kV PMainC PMainT Ppeak_kW Qpeak_kVAr Size_kVA geometry_layer geometry_object geometry_proj4\n",
      "Transformer_N\n",
      "Code Feeder NodeA NodeB Phases Stage Subest Tap(pu) TapMin Tapax Vnom1 Vnom2 Xsc(pu) Y11(pu) Y12(pu) Y21(pu) Y22(pu) geometry_layer geometry_object geometry_proj4\n",
      "SwitchingDevices_N\n",
      "Branch CMainC Code FailRate Feeder InvC NodeA NodeB NomV_kV PMainC PMainT Stage Subest Type geometry_layer geometry_object geometry_proj4\n",
      "StreetMap_nodes\n",
      "ConnGroup Feeder InSettlem Node NomV OH P Phases PhasesV Q Qmax Qmin ReliabZone Subest Vpu Vpu_obj geometry_layer geometry_object geometry_proj4\n",
      "StreetMap_branches\n",
      "Node_A Node_B Type geometry_layer geometry_object geometry_proj4\n",
      "NewConsumerGreenfield_N\n",
      "Code DemP_kW DemQ_kVAr Feeder NVoltLev NVolt_kV NumCust NumLev Phases Pinst_kW Qinst_kVAr RArea_m2 Subest Yearly_kWh geometry_layer geometry_object geometry_proj4\n",
      "Network_nodes\n",
      "ConnGroup Feeder InSettlem Node NomV OH P Phases PhasesV Q Qmax Qmin ReliabZone Subest Vpu Vpu_obj geometry_layer geometry_object geometry_proj4\n",
      "Network_NEW_nodes\n",
      "ConnGroup Feeder InSettlem Node NomV OH P Phases PhasesV Q Qmax Qmin ReliabZone Subest Vpu Vpu_obj geometry_layer geometry_object geometry_proj4\n",
      "Network_NEW_branches\n",
      "Feeder Losses_kVA Margin N_Parent N_Son Node_A Node_B NumLines Overload P_Flow P_a P_b Q_a Q_b SNom Sa_coef Sb_coef Status Subest TimeCrews TimeLoc TimeRed Y11_pu Y12_pu Y21_pu Y22_pu geometry_layer geometry_object geometry_proj4\n",
      "Line_N\n",
      "C CMainC Code Equip FR Feeder Imax InvC Len(1c) NodeA NodeB NomV PMainC PMainT Phases PhasesV PhasesVI R Stage Status Subest T_Rep TypeOU X geometry_layer geometry_object geometry_proj4\n",
      "HVMVSubstation_N\n",
      "CMainC Code Equip InvC MVA Node NumTransf PMainC VNom geometry_layer geometry_object geometry_proj4\n",
      "DummyEquip\n",
      "Feeder Node Subest geometry_layer geometry_object geometry_proj4\n",
      "DistribTransf_N\n",
      "CMainC Code Energy_kWh Equip InvC InvCOut NMaxTransf NmaxOutputs Node NomV_kV NumTransf PMainC PMainT Ppeak_kW Qpeak_kVAr Size_kVA geometry_layer geometry_object geometry_proj4\n"
     ]
    }
   ],
   "source": [
    "from glob import glob\n",
    "from invisibleroads_macros.disk import get_file_stem\n",
    "from os.path import join\n",
    "for path in glob(join(source_folder, '*.shp')):\n",
    "    t = geotable.load(path)\n",
    "    print(get_file_stem(path))\n",
    "    print(' '.join(sorted(t.columns)))"
   ]
  },
  {
   "cell_type": "code",
   "execution_count": 7,
   "metadata": {},
   "outputs": [
    {
     "data": {
      "text/plain": [
       "Node                                            ST_MAT\n",
       "Subest                                            True\n",
       "Feeder                                            True\n",
       "geometry_object    POINT (625155.6499999999 4018544.7)\n",
       "geometry_layer                              DummyEquip\n",
       "geometry_proj4     +proj=longlat +datum=WGS84 +no_defs\n",
       "Name: 0, dtype: object"
      ]
     },
     "execution_count": 7,
     "metadata": {},
     "output_type": "execute_result"
    }
   ],
   "source": [
    "t = geotable.load('/tmp/greensboro-synthetic-network/GSO_RNM_GIS_Network/Rural/DummyEquip.shp')\n",
    "t.iloc[0]"
   ]
  },
  {
   "cell_type": "code",
   "execution_count": 8,
   "metadata": {},
   "outputs": [
    {
     "data": {
      "text/html": [
       "<div>\n",
       "<style scoped>\n",
       "    .dataframe tbody tr th:only-of-type {\n",
       "        vertical-align: middle;\n",
       "    }\n",
       "\n",
       "    .dataframe tbody tr th {\n",
       "        vertical-align: top;\n",
       "    }\n",
       "\n",
       "    .dataframe thead th {\n",
       "        text-align: right;\n",
       "    }\n",
       "</style>\n",
       "<table border=\"1\" class=\"dataframe\">\n",
       "  <thead>\n",
       "    <tr style=\"text-align: right;\">\n",
       "      <th></th>\n",
       "      <th>Node</th>\n",
       "      <th>Subest</th>\n",
       "      <th>Feeder</th>\n",
       "      <th>geometry_object</th>\n",
       "      <th>geometry_layer</th>\n",
       "      <th>geometry_proj4</th>\n",
       "    </tr>\n",
       "  </thead>\n",
       "  <tbody>\n",
       "    <tr>\n",
       "      <th>5025</th>\n",
       "      <td>S_nCCTT6_BT</td>\n",
       "      <td>S_nSSEE1_12.47</td>\n",
       "      <td>S_nSSEE1_12.47 -&gt; S_nCCTT2619</td>\n",
       "      <td>POINT (623052.4 4016495.5)</td>\n",
       "      <td>DummyEquip</td>\n",
       "      <td>+proj=longlat +datum=WGS84 +no_defs</td>\n",
       "    </tr>\n",
       "  </tbody>\n",
       "</table>\n",
       "</div>"
      ],
      "text/plain": [
       "             Node          Subest                         Feeder  \\\n",
       "5025  S_nCCTT6_BT  S_nSSEE1_12.47  S_nSSEE1_12.47 -> S_nCCTT2619   \n",
       "\n",
       "                 geometry_object geometry_layer  \\\n",
       "5025  POINT (623052.4 4016495.5)     DummyEquip   \n",
       "\n",
       "                           geometry_proj4  \n",
       "5025  +proj=longlat +datum=WGS84 +no_defs  "
      ]
     },
     "execution_count": 8,
     "metadata": {},
     "output_type": "execute_result"
    }
   ],
   "source": [
    "t[t['Node'] == 'S_nCCTT6_BT']"
   ]
  },
  {
   "cell_type": "code",
   "execution_count": 9,
   "metadata": {},
   "outputs": [
    {
     "data": {
      "text/plain": [
       "Node                                               SM8\n",
       "ConnGroup                                            1\n",
       "InSettlem                                            S\n",
       "ReliabZone                                           x\n",
       "OH                                                   A\n",
       "NomV                                                 0\n",
       "Vpu                                                  0\n",
       "P                                                    0\n",
       "Q                                                    0\n",
       "Qmin                                                 0\n",
       "Qmax                                                 0\n",
       "Vpu_obj                                              0\n",
       "Phases                                              0P\n",
       "PhasesV                                          0P_BT\n",
       "Subest                                            True\n",
       "Feeder                                            True\n",
       "geometry_object             POINT (633814.9 4005725.8)\n",
       "geometry_layer                         StreetMap_nodes\n",
       "geometry_proj4     +proj=longlat +datum=WGS84 +no_defs\n",
       "Name: 0, dtype: object"
      ]
     },
     "execution_count": 9,
     "metadata": {},
     "output_type": "execute_result"
    }
   ],
   "source": [
    "t = geotable.load('/tmp/greensboro-synthetic-network/GSO_RNM_GIS_Network/Rural/StreetMap_nodes.shp')\n",
    "t.iloc[0]"
   ]
  },
  {
   "cell_type": "code",
   "execution_count": 12,
   "metadata": {},
   "outputs": [
    {
     "data": {
      "text/plain": [
       "Type                                                               X\n",
       "Node_A                                                        SM4100\n",
       "Node_B                                                       SM26030\n",
       "geometry_object    LINESTRING (624289.8 3999900.6, 624271.2 39998...\n",
       "geometry_layer                                    StreetMap_branches\n",
       "geometry_proj4                   +proj=longlat +datum=WGS84 +no_defs\n",
       "Name: 0, dtype: object"
      ]
     },
     "execution_count": 12,
     "metadata": {},
     "output_type": "execute_result"
    }
   ],
   "source": [
    "t = geotable.load('/tmp/greensboro-synthetic-network/GSO_RNM_GIS_Network/Rural/StreetMap_branches.shp')\n",
    "t.iloc[0]"
   ]
  },
  {
   "cell_type": "code",
   "execution_count": 13,
   "metadata": {},
   "outputs": [
    {
     "data": {
      "text/plain": [
       "Node                                            ST_MAT\n",
       "ConnGroup                                            1\n",
       "InSettlem                                            x\n",
       "ReliabZone                                           x\n",
       "OH                                                   x\n",
       "NomV                                               230\n",
       "Vpu                                                  1\n",
       "P                                            26100.3 ;\n",
       "Q                                            17178.8 ;\n",
       "Qmin                                                 0\n",
       "Qmax                                                 0\n",
       "Vpu_obj                                              1\n",
       "Phases                                              0P\n",
       "PhasesV                                          0P_AT\n",
       "Subest                                            True\n",
       "Feeder                                            True\n",
       "geometry_object    POINT (625155.6499999999 4018544.7)\n",
       "geometry_layer                           Network_nodes\n",
       "geometry_proj4     +proj=longlat +datum=WGS84 +no_defs\n",
       "Name: 0, dtype: object"
      ]
     },
     "execution_count": 13,
     "metadata": {},
     "output_type": "execute_result"
    }
   ],
   "source": [
    "t = geotable.load('/tmp/greensboro-synthetic-network/GSO_RNM_GIS_Network/Rural/Network_nodes.shp')\n",
    "t.iloc[0]"
   ]
  },
  {
   "cell_type": "code",
   "execution_count": 14,
   "metadata": {},
   "outputs": [
    {
     "data": {
      "text/plain": [
       "'ST_MAT S_nSSEE0_69 S_nSSEE0_12.47 S_nSSEE1_69 S_nSSEE2_12.47 S_nSSEE2_69 S_nST0_69 S_nSSEE1_12.47'"
      ]
     },
     "execution_count": 14,
     "metadata": {},
     "output_type": "execute_result"
    }
   ],
   "source": [
    "' '.join(x for x in t['Node'].unique() if not x.startswith('RCLV') and not x.startswith('S_nCC'))"
   ]
  },
  {
   "cell_type": "code",
   "execution_count": 19,
   "metadata": {},
   "outputs": [
    {
     "data": {
      "text/plain": [
       "Node                                            RCLV33\n",
       "ConnGroup                                            1\n",
       "InSettlem                                            x\n",
       "ReliabZone                                           S\n",
       "OH                                                   x\n",
       "NomV                                              0.42\n",
       "Vpu                                          1.00118 ;\n",
       "P                                            -0.760008\n",
       "Q                                            -0.370004\n",
       "Qmin                                                 0\n",
       "Qmax                                                 0\n",
       "Vpu_obj                                              0\n",
       "Phases                                               A\n",
       "PhasesV                                           A_BT\n",
       "Subest                                  S_nSSEE1_12.47\n",
       "Feeder                   S_nSSEE1_12.47 -> S_nCCTT2619\n",
       "geometry_object             POINT (622867.4 4016120.6)\n",
       "geometry_layer                       Network_NEW_nodes\n",
       "geometry_proj4     +proj=longlat +datum=WGS84 +no_defs\n",
       "Name: 0, dtype: object"
      ]
     },
     "execution_count": 19,
     "metadata": {},
     "output_type": "execute_result"
    }
   ],
   "source": [
    "t = geotable.load('/tmp/greensboro-synthetic-network/GSO_RNM_GIS_Network/Rural/Network_NEW_nodes.shp')\n",
    "t.iloc[0]"
   ]
  },
  {
   "cell_type": "code",
   "execution_count": 20,
   "metadata": {},
   "outputs": [
    {
     "data": {
      "text/plain": [
       "'S_nSSEE0_69 S_nSSEE0_12.47 S_nSSEE1_69 S_nSSEE2_12.47 S_nSSEE2_69 S_nST0_69 S_nSSEE1_12.47'"
      ]
     },
     "execution_count": 20,
     "metadata": {},
     "output_type": "execute_result"
    }
   ],
   "source": [
    "' '.join(\n",
    "    x for x in t['Node'].unique() if not \n",
    "    x.startswith('RCLV') and not \n",
    "    x.startswith('S_nCC') and not \n",
    "    x.startswith('S_Dummy'))"
   ]
  },
  {
   "cell_type": "code",
   "execution_count": 21,
   "metadata": {},
   "outputs": [
    {
     "data": {
      "text/plain": [
       "Node_A                                                      S_nCCTT6\n",
       "Node_B                                                   S_nCCTT6_BT\n",
       "N_Son                                                    S_nCCTT6_BT\n",
       "N_Parent                                                    S_nCCTT6\n",
       "P_a                                                        13.2614 ;\n",
       "Q_a                                                        7.42544 ;\n",
       "P_b                                                       -13.2614 ;\n",
       "Q_b                                                        -6.3979 ;\n",
       "P_Flow                                                   15.1987 <-;\n",
       "Status                                                             1\n",
       "SNom                                                               0\n",
       "Overload                                                           0\n",
       "Margin                                                          9.77\n",
       "Sa_coef                                                            1\n",
       "Sb_coef                                                            1\n",
       "Losses_kVA                                 (2.77556e-15 , 1.02753) ;\n",
       "Y11_pu                                                  (0,-2.33906)\n",
       "Y12_pu                                                    (0,2.2075)\n",
       "Y21_pu                                                    (0,2.2075)\n",
       "Y22_pu                                                  (0,-2.08333)\n",
       "NumLines                                                           0\n",
       "TimeLoc                                                            0\n",
       "TimeCrews                                                          0\n",
       "TimeRed                                                            0\n",
       "Subest                                                S_nSSEE1_12.47\n",
       "Feeder                                 S_nSSEE1_12.47 -> S_nCCTT2619\n",
       "geometry_object    LINESTRING (623052.4 4016495.5, 623052.4 40164...\n",
       "geometry_layer                                  Network_NEW_branches\n",
       "geometry_proj4                   +proj=longlat +datum=WGS84 +no_defs\n",
       "Name: 0, dtype: object"
      ]
     },
     "execution_count": 21,
     "metadata": {},
     "output_type": "execute_result"
    }
   ],
   "source": [
    "t = geotable.load('/tmp/greensboro-synthetic-network/GSO_RNM_GIS_Network/Rural/Network_NEW_branches.shp')\n",
    "t.iloc[0]"
   ]
  },
  {
   "cell_type": "code",
   "execution_count": null,
   "metadata": {},
   "outputs": [],
   "source": []
  },
  {
   "cell_type": "code",
   "execution_count": 22,
   "metadata": {},
   "outputs": [],
   "source": [
    "t = geotable.load('/tmp/greensboro-synthetic-network/GSO_RNM_GIS_Network/Rural/Line_N.shp')"
   ]
  },
  {
   "cell_type": "code",
   "execution_count": 23,
   "metadata": {},
   "outputs": [
    {
     "data": {
      "text/html": [
       "<div>\n",
       "<style scoped>\n",
       "    .dataframe tbody tr th:only-of-type {\n",
       "        vertical-align: middle;\n",
       "    }\n",
       "\n",
       "    .dataframe tbody tr th {\n",
       "        vertical-align: top;\n",
       "    }\n",
       "\n",
       "    .dataframe thead th {\n",
       "        text-align: right;\n",
       "    }\n",
       "</style>\n",
       "<table border=\"1\" class=\"dataframe\">\n",
       "  <thead>\n",
       "    <tr style=\"text-align: right;\">\n",
       "      <th></th>\n",
       "      <th>Code</th>\n",
       "      <th>NodeA</th>\n",
       "      <th>NodeB</th>\n",
       "      <th>NomV</th>\n",
       "      <th>Len(1c)</th>\n",
       "      <th>TypeOU</th>\n",
       "      <th>Equip</th>\n",
       "      <th>R</th>\n",
       "      <th>X</th>\n",
       "      <th>C</th>\n",
       "      <th>...</th>\n",
       "      <th>CMainC</th>\n",
       "      <th>Stage</th>\n",
       "      <th>Phases</th>\n",
       "      <th>PhasesV</th>\n",
       "      <th>PhasesVI</th>\n",
       "      <th>Subest</th>\n",
       "      <th>Feeder</th>\n",
       "      <th>geometry_object</th>\n",
       "      <th>geometry_layer</th>\n",
       "      <th>geometry_proj4</th>\n",
       "    </tr>\n",
       "  </thead>\n",
       "  <tbody>\n",
       "    <tr>\n",
       "      <th>12189</th>\n",
       "      <td>CLineaCable(CRamaEE(): S_nCCTT6-&gt;S_nCCTT611)</td>\n",
       "      <td>S_nCCTT6</td>\n",
       "      <td>S_nCCTT611</td>\n",
       "      <td>12.47</td>\n",
       "      <td>0.001</td>\n",
       "      <td>T</td>\n",
       "      <td>1P_OH_Raven_ACSR1/0</td>\n",
       "      <td>0.00053</td>\n",
       "      <td>0.00034</td>\n",
       "      <td>0.0136</td>\n",
       "      <td>...</td>\n",
       "      <td>0.0</td>\n",
       "      <td>NEW</td>\n",
       "      <td>C</td>\n",
       "      <td>C_MT</td>\n",
       "      <td>MT_1_80</td>\n",
       "      <td>S_nSSEE1_12.47</td>\n",
       "      <td>S_nSSEE1_12.47 -&gt; S_nCCTT2619</td>\n",
       "      <td>LINESTRING (623052.4 4016495.5, 623052.4 40164...</td>\n",
       "      <td>Line_N</td>\n",
       "      <td>+proj=longlat +datum=WGS84 +no_defs</td>\n",
       "    </tr>\n",
       "  </tbody>\n",
       "</table>\n",
       "<p>1 rows × 27 columns</p>\n",
       "</div>"
      ],
      "text/plain": [
       "                                               Code     NodeA       NodeB  \\\n",
       "12189  CLineaCable(CRamaEE(): S_nCCTT6->S_nCCTT611)  S_nCCTT6  S_nCCTT611   \n",
       "\n",
       "        NomV  Len(1c) TypeOU                Equip        R        X       C  \\\n",
       "12189  12.47    0.001      T  1P_OH_Raven_ACSR1/0  0.00053  0.00034  0.0136   \n",
       "\n",
       "                      ...                   CMainC  Stage  Phases  PhasesV  \\\n",
       "12189                 ...                      0.0    NEW       C     C_MT   \n",
       "\n",
       "       PhasesVI          Subest                         Feeder  \\\n",
       "12189   MT_1_80  S_nSSEE1_12.47  S_nSSEE1_12.47 -> S_nCCTT2619   \n",
       "\n",
       "                                         geometry_object geometry_layer  \\\n",
       "12189  LINESTRING (623052.4 4016495.5, 623052.4 40164...         Line_N   \n",
       "\n",
       "                            geometry_proj4  \n",
       "12189  +proj=longlat +datum=WGS84 +no_defs  \n",
       "\n",
       "[1 rows x 27 columns]"
      ]
     },
     "execution_count": 23,
     "metadata": {},
     "output_type": "execute_result"
    }
   ],
   "source": [
    "t[t['NodeA'] == 'S_nCCTT6']"
   ]
  },
  {
   "cell_type": "code",
   "execution_count": 24,
   "metadata": {},
   "outputs": [
    {
     "data": {
      "text/html": [
       "<div>\n",
       "<style scoped>\n",
       "    .dataframe tbody tr th:only-of-type {\n",
       "        vertical-align: middle;\n",
       "    }\n",
       "\n",
       "    .dataframe tbody tr th {\n",
       "        vertical-align: top;\n",
       "    }\n",
       "\n",
       "    .dataframe thead th {\n",
       "        text-align: right;\n",
       "    }\n",
       "</style>\n",
       "<table border=\"1\" class=\"dataframe\">\n",
       "  <thead>\n",
       "    <tr style=\"text-align: right;\">\n",
       "      <th></th>\n",
       "      <th>Code</th>\n",
       "      <th>NodeA</th>\n",
       "      <th>NodeB</th>\n",
       "      <th>NomV</th>\n",
       "      <th>Len(1c)</th>\n",
       "      <th>TypeOU</th>\n",
       "      <th>Equip</th>\n",
       "      <th>R</th>\n",
       "      <th>X</th>\n",
       "      <th>C</th>\n",
       "      <th>...</th>\n",
       "      <th>CMainC</th>\n",
       "      <th>Stage</th>\n",
       "      <th>Phases</th>\n",
       "      <th>PhasesV</th>\n",
       "      <th>PhasesVI</th>\n",
       "      <th>Subest</th>\n",
       "      <th>Feeder</th>\n",
       "      <th>geometry_object</th>\n",
       "      <th>geometry_layer</th>\n",
       "      <th>geometry_proj4</th>\n",
       "    </tr>\n",
       "  </thead>\n",
       "  <tbody>\n",
       "    <tr>\n",
       "      <th>12180</th>\n",
       "      <td>CLineaCable(CRamaEE(): S_nCCTT10-&gt;S_nCCTT6)</td>\n",
       "      <td>S_nCCTT10</td>\n",
       "      <td>S_nCCTT6</td>\n",
       "      <td>12.47</td>\n",
       "      <td>0.146</td>\n",
       "      <td>T</td>\n",
       "      <td>1P_OH_Raven_ACSR1/0</td>\n",
       "      <td>0.07785</td>\n",
       "      <td>0.04967</td>\n",
       "      <td>1.97991</td>\n",
       "      <td>...</td>\n",
       "      <td>0.0</td>\n",
       "      <td>NEW</td>\n",
       "      <td>C</td>\n",
       "      <td>C_MT</td>\n",
       "      <td>MT_1_80</td>\n",
       "      <td>S_nSSEE1_12.47</td>\n",
       "      <td>S_nSSEE1_12.47 -&gt; S_nCCTT2619</td>\n",
       "      <td>LINESTRING (622924.2 4016533.7, 622924.2 40165...</td>\n",
       "      <td>Line_N</td>\n",
       "      <td>+proj=longlat +datum=WGS84 +no_defs</td>\n",
       "    </tr>\n",
       "  </tbody>\n",
       "</table>\n",
       "<p>1 rows × 27 columns</p>\n",
       "</div>"
      ],
      "text/plain": [
       "                                              Code      NodeA     NodeB  \\\n",
       "12180  CLineaCable(CRamaEE(): S_nCCTT10->S_nCCTT6)  S_nCCTT10  S_nCCTT6   \n",
       "\n",
       "        NomV  Len(1c) TypeOU                Equip        R        X        C  \\\n",
       "12180  12.47    0.146      T  1P_OH_Raven_ACSR1/0  0.07785  0.04967  1.97991   \n",
       "\n",
       "                      ...                   CMainC  Stage  Phases  PhasesV  \\\n",
       "12180                 ...                      0.0    NEW       C     C_MT   \n",
       "\n",
       "       PhasesVI          Subest                         Feeder  \\\n",
       "12180   MT_1_80  S_nSSEE1_12.47  S_nSSEE1_12.47 -> S_nCCTT2619   \n",
       "\n",
       "                                         geometry_object geometry_layer  \\\n",
       "12180  LINESTRING (622924.2 4016533.7, 622924.2 40165...         Line_N   \n",
       "\n",
       "                            geometry_proj4  \n",
       "12180  +proj=longlat +datum=WGS84 +no_defs  \n",
       "\n",
       "[1 rows x 27 columns]"
      ]
     },
     "execution_count": 24,
     "metadata": {},
     "output_type": "execute_result"
    }
   ],
   "source": [
    "t[t['NodeB'] == 'S_nCCTT6']"
   ]
  },
  {
   "cell_type": "code",
   "execution_count": 25,
   "metadata": {},
   "outputs": [
    {
     "data": {
      "text/plain": [
       "10262"
      ]
     },
     "execution_count": 25,
     "metadata": {},
     "output_type": "execute_result"
    }
   ],
   "source": [
    "t = geotable.load('/tmp/greensboro-synthetic-network/GSO_RNM_GIS_Network/Rural/DummyEquip.shp')\n",
    "len(t)"
   ]
  },
  {
   "cell_type": "code",
   "execution_count": 26,
   "metadata": {},
   "outputs": [
    {
     "data": {
      "text/plain": [
       "'/tmp/greensboro-synthetic-network/GSO_RNM_GIS_Network/Rural'"
      ]
     },
     "execution_count": 26,
     "metadata": {},
     "output_type": "execute_result"
    }
   ],
   "source": [
    "source_folder"
   ]
  },
  {
   "cell_type": "code",
   "execution_count": 27,
   "metadata": {},
   "outputs": [
    {
     "data": {
      "text/plain": [
       "['/tmp/greensboro-synthetic-network/GSO_RNM_GIS_Network/Rural/VoltageRegulator_N.shp',\n",
       " '/tmp/greensboro-synthetic-network/GSO_RNM_GIS_Network/Rural/TransSubstation_N.shp',\n",
       " '/tmp/greensboro-synthetic-network/GSO_RNM_GIS_Network/Rural/Transformer_N.shp',\n",
       " '/tmp/greensboro-synthetic-network/GSO_RNM_GIS_Network/Rural/SwitchingDevices_N.shp',\n",
       " '/tmp/greensboro-synthetic-network/GSO_RNM_GIS_Network/Rural/StreetMap_nodes.shp',\n",
       " '/tmp/greensboro-synthetic-network/GSO_RNM_GIS_Network/Rural/StreetMap_branches.shp',\n",
       " '/tmp/greensboro-synthetic-network/GSO_RNM_GIS_Network/Rural/NewConsumerGreenfield_N.shp',\n",
       " '/tmp/greensboro-synthetic-network/GSO_RNM_GIS_Network/Rural/Network_nodes.shp',\n",
       " '/tmp/greensboro-synthetic-network/GSO_RNM_GIS_Network/Rural/Network_NEW_nodes.shp',\n",
       " '/tmp/greensboro-synthetic-network/GSO_RNM_GIS_Network/Rural/Network_NEW_branches.shp',\n",
       " '/tmp/greensboro-synthetic-network/GSO_RNM_GIS_Network/Rural/Line_N.shp',\n",
       " '/tmp/greensboro-synthetic-network/GSO_RNM_GIS_Network/Rural/HVMVSubstation_N.shp',\n",
       " '/tmp/greensboro-synthetic-network/GSO_RNM_GIS_Network/Rural/DummyEquip.shp',\n",
       " '/tmp/greensboro-synthetic-network/GSO_RNM_GIS_Network/Rural/DistribTransf_N.shp']"
      ]
     },
     "execution_count": 27,
     "metadata": {},
     "output_type": "execute_result"
    }
   ],
   "source": [
    "from glob import glob\n",
    "from os.path import join\n",
    "glob(join(source_folder, '*.shp'))"
   ]
  },
  {
   "cell_type": "code",
   "execution_count": 28,
   "metadata": {},
   "outputs": [],
   "source": [
    "# Make table of path_by_code\n",
    "from collections import defaultdict\n",
    "paths_by_code = defaultdict(list)\n",
    "for path in glob(join(source_folder, '*.shp')):\n",
    "    t = geotable.load(path)\n",
    "    for i, r in t.iterrows():\n",
    "        if 'Code' in r:\n",
    "            code = r['Code']\n",
    "        elif 'Node' in r:\n",
    "            code = r['Node']\n",
    "        else:\n",
    "            continue\n",
    "        paths_by_code[code].append(path)"
   ]
  },
  {
   "cell_type": "code",
   "execution_count": 29,
   "metadata": {},
   "outputs": [
    {
     "data": {
      "text/plain": [
       "['/tmp/greensboro-synthetic-network/GSO_RNM_GIS_Network/Rural/Network_nodes.shp',\n",
       " '/tmp/greensboro-synthetic-network/GSO_RNM_GIS_Network/Rural/Network_NEW_nodes.shp',\n",
       " '/tmp/greensboro-synthetic-network/GSO_RNM_GIS_Network/Rural/DummyEquip.shp']"
      ]
     },
     "execution_count": 29,
     "metadata": {},
     "output_type": "execute_result"
    }
   ],
   "source": [
    "paths_by_code['S_nCCTT6_BT']"
   ]
  },
  {
   "cell_type": "code",
   "execution_count": 30,
   "metadata": {},
   "outputs": [],
   "source": [
    "\"\"\"\n",
    "# Miscellaneous\n",
    "/tmp/greensboro-synthetic-network/GSO_RNM_GIS_Network/Rural/Network_nodes.shp\n",
    "/tmp/greensboro-synthetic-network/GSO_RNM_GIS_Network/Rural/Network_NEW_nodes.shp\n",
    "/tmp/greensboro-synthetic-network/GSO_RNM_GIS_Network/Rural/Network_NEW_branches.shp\n",
    "/tmp/greensboro-synthetic-network/GSO_RNM_GIS_Network/Rural/DummyEquip.shp\n",
    "# Station\n",
    "# Substation\n",
    "/tmp/greensboro-synthetic-network/GSO_RNM_GIS_Network/Rural/TransSubstation_N.shp\n",
    "/tmp/greensboro-synthetic-network/GSO_RNM_GIS_Network/Rural/HVMVSubstation_N.shp\n",
    "# Quality\n",
    "/tmp/greensboro-synthetic-network/GSO_RNM_GIS_Network/Rural/VoltageRegulator_N.shp\n",
    "# Switch\n",
    "/tmp/greensboro-synthetic-network/GSO_RNM_GIS_Network/Rural/SwitchingDevices_N.shp\n",
    "# Transformer\n",
    "/tmp/greensboro-synthetic-network/GSO_RNM_GIS_Network/Rural/DistribTransf_N.shp\n",
    "/tmp/greensboro-synthetic-network/GSO_RNM_GIS_Network/Rural/Transformer_N.shp\n",
    "# Meter\n",
    "/tmp/greensboro-synthetic-network/GSO_RNM_GIS_Network/Rural/NewConsumerGreenfield_N.shp\n",
    "# Line\n",
    "/tmp/greensboro-synthetic-network/GSO_RNM_GIS_Network/Rural/Line_N.shp\n",
    "# Pole\n",
    "# Busbar\n",
    "# Control\n",
    "\"\"\";"
   ]
  },
  {
   "cell_type": "code",
   "execution_count": 31,
   "metadata": {},
   "outputs": [],
   "source": [
    "source_proj4 = '+proj=utm +zone=17 +ellps=GRS80 +datum=NAD83 +units=m +no_defs'\n",
    "target_proj4 = geotable.LONGITUDE_LATITUDE_PROJ4"
   ]
  },
  {
   "cell_type": "code",
   "execution_count": 32,
   "metadata": {},
   "outputs": [],
   "source": [
    "for i, r in t.iterrows():\n",
    "    break"
   ]
  },
  {
   "cell_type": "code",
   "execution_count": 33,
   "metadata": {},
   "outputs": [
    {
     "data": {
      "text/plain": [
       "{'CMainC': 0.0,\n",
       " 'Code': 'S_nCCTT10',\n",
       " 'Energy_kWh': 26280.0,\n",
       " 'Equip': 'I',\n",
       " 'InvC': 2400.0,\n",
       " 'InvCOut': 0.0,\n",
       " 'NMaxTransf': 2,\n",
       " 'NmaxOutputs': 5,\n",
       " 'Node': 'S_nCCTT10',\n",
       " 'NomV_kV': 12.47,\n",
       " 'NumTransf': 1,\n",
       " 'PMainC': 64.32,\n",
       " 'PMainT': 230.0,\n",
       " 'Ppeak_kW': 10.0,\n",
       " 'Qpeak_kVAr': 10.0,\n",
       " 'Size_kVA': 10.0,\n",
       " 'geometry_layer': 'DistribTransf_N',\n",
       " 'geometry_object': <shapely.geometry.point.Point at 0x7f0647d57b70>,\n",
       " 'geometry_proj4': '+proj=longlat +datum=WGS84 +no_defs'}"
      ]
     },
     "execution_count": 33,
     "metadata": {},
     "output_type": "execute_result"
    }
   ],
   "source": [
    "dict(r)"
   ]
  },
  {
   "cell_type": "code",
   "execution_count": 34,
   "metadata": {},
   "outputs": [
    {
     "data": {
      "text/plain": [
       "1"
      ]
     },
     "execution_count": 34,
     "metadata": {},
     "output_type": "execute_result"
    }
   ],
   "source": [
    "r.get('x', 1)"
   ]
  },
  {
   "cell_type": "code",
   "execution_count": 35,
   "metadata": {},
   "outputs": [
    {
     "data": {
      "text/plain": [
       "True"
      ]
     },
     "execution_count": 35,
     "metadata": {},
     "output_type": "execute_result"
    }
   ],
   "source": [
    "r.get('y') is None"
   ]
  },
  {
   "cell_type": "code",
   "execution_count": 36,
   "metadata": {},
   "outputs": [
    {
     "data": {
      "text/plain": [
       "'S_nCCTT10'"
      ]
     },
     "execution_count": 36,
     "metadata": {},
     "output_type": "execute_result"
    }
   ],
   "source": [
    "r.pop('Node')"
   ]
  },
  {
   "cell_type": "code",
   "execution_count": 37,
   "metadata": {},
   "outputs": [],
   "source": [
    "d = {}"
   ]
  },
  {
   "cell_type": "code",
   "execution_count": 38,
   "metadata": {},
   "outputs": [
    {
     "data": {
      "text/plain": [
       "\u001b[0;31mDocstring:\u001b[0m\n",
       "D.pop(k[,d]) -> v, remove specified key and return the corresponding value.\n",
       "If key is not found, d is returned if given, otherwise KeyError is raised\n",
       "\u001b[0;31mType:\u001b[0m      builtin_function_or_method\n"
      ]
     },
     "metadata": {},
     "output_type": "display_data"
    }
   ],
   "source": [
    "d.pop?"
   ]
  },
  {
   "cell_type": "code",
   "execution_count": 39,
   "metadata": {},
   "outputs": [],
   "source": [
    "d.pop('x', None)"
   ]
  },
  {
   "cell_type": "code",
   "execution_count": 40,
   "metadata": {},
   "outputs": [],
   "source": [
    "from collections import OrderedDict\n",
    "from models import AssetType\n",
    "paths_by_type = OrderedDict()\n",
    "paths_by_type[AssetType.Miscellaneous] = [\n",
    "    '/tmp/greensboro-synthetic-network/GSO_RNM_GIS_Network/Rural/Network_nodes.shp',\n",
    "    '/tmp/greensboro-synthetic-network/GSO_RNM_GIS_Network/Rural/Network_NEW_nodes.shp',\n",
    "    '/tmp/greensboro-synthetic-network/GSO_RNM_GIS_Network/Rural/Network_NEW_branches.shp',\n",
    "    '/tmp/greensboro-synthetic-network/GSO_RNM_GIS_Network/Rural/DummyEquip.shp',\n",
    "]\n",
    "paths_by_type[AssetType.Substation] = [\n",
    "    '/tmp/greensboro-synthetic-network/GSO_RNM_GIS_Network/Rural/TransSubstation_N.shp',\n",
    "    '/tmp/greensboro-synthetic-network/GSO_RNM_GIS_Network/Rural/HVMVSubstation_N.shp',\n",
    "]\n",
    "paths_by_type[AssetType.Quality] = [\n",
    "    '/tmp/greensboro-synthetic-network/GSO_RNM_GIS_Network/Rural/VoltageRegulator_N.shp',\n",
    "]\n",
    "paths_by_type[AssetType.Switch] = [\n",
    "    '/tmp/greensboro-synthetic-network/GSO_RNM_GIS_Network/Rural/SwitchingDevices_N.shp',\n",
    "]\n",
    "paths_by_type[AssetType.Transformer] = [\n",
    "    '/tmp/greensboro-synthetic-network/GSO_RNM_GIS_Network/Rural/DistribTransf_N.shp',\n",
    "    '/tmp/greensboro-synthetic-network/GSO_RNM_GIS_Network/Rural/Transformer_N.shp',\n",
    "]\n",
    "paths_by_type[AssetType.Meter] = [\n",
    "    '/tmp/greensboro-synthetic-network/GSO_RNM_GIS_Network/Rural/NewConsumerGreenfield_N.shp',\n",
    "]\n",
    "paths_by_type[AssetType.Line] = [\n",
    "    '/tmp/greensboro-synthetic-network/GSO_RNM_GIS_Network/Rural/Line_N.shp',\n",
    "]"
   ]
  },
  {
   "cell_type": "code",
   "execution_count": 41,
   "metadata": {},
   "outputs": [],
   "source": [
    "import networkx as nx\n",
    "g = nx.Graph()"
   ]
  },
  {
   "cell_type": "code",
   "execution_count": 42,
   "metadata": {},
   "outputs": [],
   "source": [
    "g.add_node(1, x=1, y=2)"
   ]
  },
  {
   "cell_type": "code",
   "execution_count": 43,
   "metadata": {},
   "outputs": [
    {
     "data": {
      "text/plain": [
       "{'x': 1, 'y': 2}"
      ]
     },
     "execution_count": 43,
     "metadata": {},
     "output_type": "execute_result"
    }
   ],
   "source": [
    "g.nodes[1]"
   ]
  },
  {
   "cell_type": "code",
   "execution_count": 44,
   "metadata": {},
   "outputs": [],
   "source": [
    "g.add_node(1, x=2, z=2)"
   ]
  },
  {
   "cell_type": "code",
   "execution_count": 45,
   "metadata": {},
   "outputs": [
    {
     "data": {
      "text/plain": [
       "{'x': 2, 'y': 2, 'z': 2}"
      ]
     },
     "execution_count": 45,
     "metadata": {},
     "output_type": "execute_result"
    }
   ],
   "source": [
    "g.nodes[1]"
   ]
  },
  {
   "cell_type": "code",
   "execution_count": 46,
   "metadata": {},
   "outputs": [],
   "source": [
    "def import_geotable(geotable_path, asset_type):\n",
    "    t = geotable.load(geotable_path, source_proj4=source_proj4, target_proj4=target_proj4)\n",
    "    for i, r in t.iterrows():\n",
    "        d = dict(r)\n",
    "        d['asset_type'] = asset_type\n",
    "        del d['geometry_layer']\n",
    "        del d['geometry_proj4']\n",
    "        # Add node\n",
    "        node = d.get('Node', d.get('Code', None))\n",
    "        if node is not None:\n",
    "            try:\n",
    "                del d['Node']\n",
    "            except KeyError:\n",
    "                pass\n",
    "            try:\n",
    "                del d['Code']\n",
    "            except KeyError:\n",
    "                pass\n",
    "            g.add_node(node, **d)\n",
    "        # Add edge\n",
    "        node_a = d.pop('NodeA', d.pop('Node_A', None))\n",
    "        node_b = d.pop('NodeB', d.pop('Node_B', None))\n",
    "        if node_a is not None and node_b is not None:\n",
    "            if node:\n",
    "                g.add_edge(node_a, node)\n",
    "                g.add_edge(node, node_b)\n",
    "            else:\n",
    "                g.add_edge(node_a, node_b)"
   ]
  },
  {
   "cell_type": "code",
   "execution_count": 47,
   "metadata": {},
   "outputs": [
    {
     "name": "stdout",
     "output_type": "stream",
     "text": [
      "AssetType.Miscellaneous /tmp/greensboro-synthetic-network/GSO_RNM_GIS_Network/Rural/Network_nodes.shp\n",
      "AssetType.Miscellaneous /tmp/greensboro-synthetic-network/GSO_RNM_GIS_Network/Rural/Network_NEW_nodes.shp\n",
      "AssetType.Miscellaneous /tmp/greensboro-synthetic-network/GSO_RNM_GIS_Network/Rural/Network_NEW_branches.shp\n",
      "AssetType.Miscellaneous /tmp/greensboro-synthetic-network/GSO_RNM_GIS_Network/Rural/DummyEquip.shp\n",
      "AssetType.Substation /tmp/greensboro-synthetic-network/GSO_RNM_GIS_Network/Rural/TransSubstation_N.shp\n",
      "AssetType.Substation /tmp/greensboro-synthetic-network/GSO_RNM_GIS_Network/Rural/HVMVSubstation_N.shp\n",
      "AssetType.Quality /tmp/greensboro-synthetic-network/GSO_RNM_GIS_Network/Rural/VoltageRegulator_N.shp\n",
      "AssetType.Switch /tmp/greensboro-synthetic-network/GSO_RNM_GIS_Network/Rural/SwitchingDevices_N.shp\n",
      "AssetType.Transformer /tmp/greensboro-synthetic-network/GSO_RNM_GIS_Network/Rural/DistribTransf_N.shp\n",
      "AssetType.Transformer /tmp/greensboro-synthetic-network/GSO_RNM_GIS_Network/Rural/Transformer_N.shp\n",
      "AssetType.Meter /tmp/greensboro-synthetic-network/GSO_RNM_GIS_Network/Rural/NewConsumerGreenfield_N.shp\n",
      "AssetType.Line /tmp/greensboro-synthetic-network/GSO_RNM_GIS_Network/Rural/Line_N.shp\n"
     ]
    }
   ],
   "source": [
    "import networkx as nx\n",
    "g = nx.Graph()\n",
    "for asset_type, geotable_paths in paths_by_type.items():\n",
    "    for p in geotable_paths:\n",
    "        import_geotable(p, asset_type)\n",
    "        print(asset_type, p)"
   ]
  },
  {
   "cell_type": "code",
   "execution_count": 48,
   "metadata": {},
   "outputs": [],
   "source": [
    "import networkx as nx\n",
    "nx.write_gpickle(g, 'example.pkl', -1)"
   ]
  },
  {
   "cell_type": "code",
   "execution_count": 49,
   "metadata": {},
   "outputs": [],
   "source": [
    "# Update database\n",
    "from invisibleroads_macros.disk import remove_safely\n",
    "from models import Asset, AssetType, configure_database\n",
    "database_path = remove_safely('greensboro-rural-20181230.sqlite')\n",
    "database = configure_database('sqlite:///%s' % database_path)"
   ]
  },
  {
   "cell_type": "code",
   "execution_count": 50,
   "metadata": {},
   "outputs": [
    {
     "data": {
      "text/plain": [
       "'bdIDggZu8FTGvCwIE7yIpIujOtn1sF5y'"
      ]
     },
     "execution_count": 50,
     "metadata": {},
     "output_type": "execute_result"
    }
   ],
   "source": [
    "from invisibleroads_macros.security import make_random_string\n",
    "make_random_string(32)"
   ]
  },
  {
   "cell_type": "code",
   "execution_count": 51,
   "metadata": {},
   "outputs": [],
   "source": [
    "# Add assets\n",
    "for name, d in g.nodes(data=True):\n",
    "    d = dict(d)\n",
    "    asset = Asset(\n",
    "        id=make_random_string(16),\n",
    "        name=name,\n",
    "        type=d.pop('asset_type'),\n",
    "        geometry=d.pop('geometry_object'),\n",
    "        properties=d)\n",
    "    database.add(asset)\n",
    "database.flush()"
   ]
  },
  {
   "cell_type": "code",
   "execution_count": 52,
   "metadata": {},
   "outputs": [],
   "source": [
    "asset_by_name = {}\n",
    "for asset in database.query(Asset):\n",
    "    asset_by_name[asset.name] = asset"
   ]
  },
  {
   "cell_type": "code",
   "execution_count": 53,
   "metadata": {},
   "outputs": [],
   "source": [
    "# Add connections\n",
    "for name1, name2 in g.edges:\n",
    "    asset1 = asset_by_name[name1]\n",
    "    asset2 = asset_by_name[name2]\n",
    "    if asset1 is not None and asset2 is not None:\n",
    "        asset1.add_connection(asset2)"
   ]
  },
  {
   "cell_type": "code",
   "execution_count": 54,
   "metadata": {},
   "outputs": [],
   "source": [
    "database.commit()"
   ]
  },
  {
   "cell_type": "code",
   "execution_count": 55,
   "metadata": {},
   "outputs": [],
   "source": [
    "# Add contents\n",
    "from collections import defaultdict\n",
    "from shapely.geometry import Point\n",
    "\n",
    "line_assets_by_pole_xy = defaultdict(list)\n",
    "for line_asset in database.query(Asset).filter_by(type=AssetType.Line):\n",
    "    for xy in line_asset.geometry.coords:\n",
    "        line_assets_by_pole_xy[xy].append(line_asset)\n",
    "for pole_xy, line_assets in line_assets_by_pole_xy.items():\n",
    "    pole_asset = Asset(\n",
    "        id=make_random_string(16),\n",
    "        name='p%s' % id,\n",
    "        type=AssetType.Pole,\n",
    "        geometry=Point(pole_xy))\n",
    "    \"\"\"\n",
    "    line_count = len(line_assets)\n",
    "    if line_count > 1:\n",
    "        print(pole_xy, line_count)\n",
    "    \"\"\"\n",
    "    for line_asset in line_assets:\n",
    "        line_asset.add_content(pole_asset)\n",
    "    database.add(pole_asset)"
   ]
  },
  {
   "cell_type": "code",
   "execution_count": 56,
   "metadata": {},
   "outputs": [],
   "source": [
    "database.commit()"
   ]
  },
  {
   "cell_type": "code",
   "execution_count": 57,
   "metadata": {},
   "outputs": [
    {
     "name": "stdout",
     "output_type": "stream",
     "text": [
      "AssetType.Station 0\n",
      "AssetType.Substation 4\n",
      "AssetType.Quality 7\n",
      "AssetType.Switch 1372\n",
      "AssetType.Transformer 5376\n",
      "AssetType.Meter 6118\n",
      "AssetType.Line 13702\n",
      "AssetType.Pole 20427\n",
      "AssetType.Busbar 0\n",
      "AssetType.Control 0\n",
      "AssetType.Miscellaneous 7576\n"
     ]
    }
   ],
   "source": [
    "for asset_type in AssetType:\n",
    "    asset_count = database.query(Asset).filter_by(type=asset_type).count()\n",
    "    print(asset_type, asset_count)"
   ]
  }
 ],
 "metadata": {
  "kernelspec": {
   "display_name": "Python 3",
   "language": "python",
   "name": "python3"
  },
  "language_info": {
   "codemirror_mode": {
    "name": "ipython",
    "version": 3
   },
   "file_extension": ".py",
   "mimetype": "text/x-python",
   "name": "python",
   "nbconvert_exporter": "python",
   "pygments_lexer": "ipython3",
   "version": "3.6.5"
  }
 },
 "nbformat": 4,
 "nbformat_minor": 2
}
