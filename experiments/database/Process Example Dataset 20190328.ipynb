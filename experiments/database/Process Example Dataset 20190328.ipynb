{
 "cells": [
  {
   "cell_type": "code",
   "execution_count": 10,
   "metadata": {},
   "outputs": [],
   "source": [
    "assets_path = '../../client/src/datasets/assets.json'"
   ]
  },
  {
   "cell_type": "code",
   "execution_count": 11,
   "metadata": {},
   "outputs": [],
   "source": [
    "import json\n",
    "assets = json.load(open(assets_path, 'rt'))"
   ]
  },
  {
   "cell_type": "code",
   "execution_count": 15,
   "metadata": {},
   "outputs": [
    {
     "data": {
      "text/plain": [
       "dict_keys(['p', 'l', 'm', 'td', 'tp', 'xf', 'xc', 'xX', 'qr', 'sd', 'st'])"
      ]
     },
     "execution_count": 15,
     "metadata": {},
     "output_type": "execute_result"
    }
   ],
   "source": [
    "from collections import defaultdict\n",
    "assets_by_type_id = defaultdict(list)\n",
    "for asset in assets:\n",
    "    asset_type_id = asset['typeId']\n",
    "    assets_by_type_id[asset_type_id].append(asset)\n",
    "assets_by_type_id = dict(assets_by_type_id)\n",
    "assets_by_type_id.keys()"
   ]
  },
  {
   "cell_type": "code",
   "execution_count": 18,
   "metadata": {},
   "outputs": [
    {
     "data": {
      "text/plain": [
       "[{'KV': 69.0,\n",
       "  'childIds': ['aOU2', 'akM1', 'abkD', 'abkH', 'abkI', 'abkK'],\n",
       "  'geometry': {'coordinates': [-79.63505549806237, 36.20536376246419],\n",
       "   'type': 'Point'},\n",
       "  'id': 'aiJN',\n",
       "  'location': [-79.63505549806237, 36.20536376246419],\n",
       "  'name': 'Transmission Substation 1',\n",
       "  'peakKW': 300000.0,\n",
       "  'typeId': 'st'}]"
      ]
     },
     "execution_count": 18,
     "metadata": {},
     "output_type": "execute_result"
    }
   ],
   "source": [
    "assets_by_type_id['st']"
   ]
  },
  {
   "cell_type": "code",
   "execution_count": 19,
   "metadata": {},
   "outputs": [
    {
     "data": {
      "text/plain": [
       "[{'KV': 12.47,\n",
       "  'childIds': ['aNQ8',\n",
       "   'abky',\n",
       "   'abkz',\n",
       "   'abkB',\n",
       "   'abkF',\n",
       "   'abkL',\n",
       "   'abkP',\n",
       "   'abkQ',\n",
       "   'abkS'],\n",
       "  'geometry': {'coordinates': [-79.60684769101411, 36.19285069559501],\n",
       "   'type': 'Point'},\n",
       "  'id': 'abcd',\n",
       "  'location': [-79.60684769101411, 36.19285069559501],\n",
       "  'name': 'Distribution Substation 1',\n",
       "  'typeId': 'sd'},\n",
       " {'KV': 12.47,\n",
       "  'childIds': ['aKPX', 'abkw', 'abkA', 'abkE', 'abkG', 'abkM', 'abkN'],\n",
       "  'geometry': {'coordinates': [-79.58859155822996, 36.2604395185741],\n",
       "   'type': 'Point'},\n",
       "  'id': 'abce',\n",
       "  'location': [-79.58859155822996, 36.2604395185741],\n",
       "  'name': 'Distribution Substation 2',\n",
       "  'typeId': 'sd'},\n",
       " {'KV': 12.47,\n",
       "  'childIds': ['aNP5', 'abku', 'abkv', 'abkx', 'abkJ', 'abkO', 'abkR'],\n",
       "  'geometry': {'coordinates': [-79.70794395058182, 36.164388548658096],\n",
       "   'type': 'Point'},\n",
       "  'id': 'abcf',\n",
       "  'location': [-79.70794395058182, 36.164388548658096],\n",
       "  'name': 'Distribution Substation 3',\n",
       "  'typeId': 'sd'}]"
      ]
     },
     "execution_count": 19,
     "metadata": {},
     "output_type": "execute_result"
    }
   ],
   "source": [
    "assets_by_type_id['sd']"
   ]
  },
  {
   "cell_type": "code",
   "execution_count": null,
   "metadata": {},
   "outputs": [],
   "source": [
    "# isolate a substation\n",
    "# examine assets inside substation\n",
    "# trace assets to meters that are within a certain distance from the substation\n",
    "# prototype an algorithm to estimate the number of meters that are downstream of an asset"
   ]
  }
 ],
 "metadata": {
  "kernelspec": {
   "display_name": "Python 3",
   "language": "python",
   "name": "python3"
  },
  "language_info": {
   "codemirror_mode": {
    "name": "ipython",
    "version": 3
   },
   "file_extension": ".py",
   "mimetype": "text/x-python",
   "name": "python",
   "nbconvert_exporter": "python",
   "pygments_lexer": "ipython3",
   "version": "3.6.6"
  }
 },
 "nbformat": 4,
 "nbformat_minor": 2
}
