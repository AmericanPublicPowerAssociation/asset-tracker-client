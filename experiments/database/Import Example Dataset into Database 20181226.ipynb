{
 "cells": [
  {
   "cell_type": "code",
   "execution_count": 1,
   "metadata": {},
   "outputs": [],
   "source": [
    "import networkx as nx\n",
    "g = nx.read_gpickle('example.pkl')"
   ]
  },
  {
   "cell_type": "code",
   "execution_count": 2,
   "metadata": {},
   "outputs": [],
   "source": [
    "from models import Asset, AssetType, database"
   ]
  },
  {
   "cell_type": "code",
   "execution_count": 3,
   "metadata": {},
   "outputs": [
    {
     "data": {
      "text/plain": [
       "'DmF6IsJtYwFTE3B7ZJcx6CD5QuKXFEZP'"
      ]
     },
     "execution_count": 3,
     "metadata": {},
     "output_type": "execute_result"
    }
   ],
   "source": [
    "from invisibleroads_macros.security import make_random_string\n",
    "make_random_string(32)"
   ]
  },
  {
   "cell_type": "code",
   "execution_count": 4,
   "metadata": {},
   "outputs": [
    {
     "data": {
      "text/plain": [
       "'fg7xFFVo1lKktjNk'"
      ]
     },
     "execution_count": 4,
     "metadata": {},
     "output_type": "execute_result"
    }
   ],
   "source": [
    "make_random_string(16)"
   ]
  },
  {
   "cell_type": "code",
   "execution_count": 5,
   "metadata": {},
   "outputs": [
    {
     "data": {
      "text/plain": [
       "<AssetType.Station: 0>"
      ]
     },
     "execution_count": 5,
     "metadata": {},
     "output_type": "execute_result"
    }
   ],
   "source": [
    "AssetType['Station']"
   ]
  },
  {
   "cell_type": "code",
   "execution_count": 6,
   "metadata": {},
   "outputs": [
    {
     "name": "stdout",
     "output_type": "stream",
     "text": [
      "POINT (-79.63188764619923 36.28222830444043)\n"
     ]
    }
   ],
   "source": [
    "for n, d in g.nodes(data=True):\n",
    "    geometry = d['geometry_object']\n",
    "    print(geometry.wkt)\n",
    "    break"
   ]
  },
  {
   "cell_type": "code",
   "execution_count": 7,
   "metadata": {},
   "outputs": [],
   "source": [
    "# Add assets\n",
    "for n, d in g.nodes(data=True):\n",
    "    d = dict(d)\n",
    "    asset_name = n\n",
    "    type_name = d.pop('geometry_layer')\n",
    "    geometry = d.pop('geometry_object')\n",
    "    asset = Asset(\n",
    "        id=make_random_string(16),\n",
    "        name=asset_name,\n",
    "        type_id=AssetType[type_name.capitalize()],\n",
    "        geometry=geometry,\n",
    "        properties=d)\n",
    "    database.add(asset)\n",
    "database.commit()"
   ]
  },
  {
   "cell_type": "code",
   "execution_count": 8,
   "metadata": {},
   "outputs": [],
   "source": [
    "from shapely import wkb"
   ]
  },
  {
   "cell_type": "code",
   "execution_count": 9,
   "metadata": {},
   "outputs": [
    {
     "data": {
      "text/plain": [
       "'POINT (-79.63188764619923 36.28222830444043)'"
      ]
     },
     "execution_count": 9,
     "metadata": {},
     "output_type": "execute_result"
    }
   ],
   "source": [
    "a = database.query(Asset).first()\n",
    "x = a.geometry\n",
    "x.wkt"
   ]
  },
  {
   "cell_type": "code",
   "execution_count": 10,
   "metadata": {},
   "outputs": [
    {
     "data": {
      "text/plain": [
       "20453"
      ]
     },
     "execution_count": 10,
     "metadata": {},
     "output_type": "execute_result"
    }
   ],
   "source": [
    "database.query(Asset).count()"
   ]
  },
  {
   "cell_type": "code",
   "execution_count": 12,
   "metadata": {},
   "outputs": [],
   "source": [
    "# Add connections\n",
    "for name1, name2, d in g.edges(data=True):\n",
    "    asset1 = database.query(Asset).filter_by(name=name1).first()\n",
    "    asset2 = database.query(Asset).filter_by(name=name2).first()\n",
    "    asset1.connected_assets.append(asset2)"
   ]
  },
  {
   "cell_type": "code",
   "execution_count": 13,
   "metadata": {},
   "outputs": [],
   "source": [
    "database.commit()"
   ]
  },
  {
   "cell_type": "code",
   "execution_count": null,
   "metadata": {},
   "outputs": [],
   "source": [
    "# database.query(Asset).filter_by(geometry)"
   ]
  },
  {
   "cell_type": "code",
   "execution_count": null,
   "metadata": {},
   "outputs": [],
   "source": [
    "See if a geometry already exists in database"
   ]
  },
  {
   "cell_type": "code",
   "execution_count": null,
   "metadata": {},
   "outputs": [],
   "source": [
    "# Add contents\n",
    "from shapely.geometry import Point\n",
    "\n",
    "# For each line, add pole at each point\n",
    "for a in database.query(Asset).filter_by(type_id=AssetType('line')):\n",
    "    line = a.geometry\n",
    "    for xy in line.coords:\n",
    "        point = Point(xy)\n",
    "    asset = database.query\n",
    "    # !!! see if the pole exists already\n",
    "    asset = Asset(\n",
    "        id=make_random_string(16),\n",
    "        name='Pole %s' % id,\n",
    "        type_id=AssetType.Pole,\n",
    "        geometry=point)"
   ]
  },
  {
   "cell_type": "code",
   "execution_count": null,
   "metadata": {},
   "outputs": [],
   "source": [
    "# find assets that are close to each other"
   ]
  }
 ],
 "metadata": {
  "kernelspec": {
   "display_name": "Python 3",
   "language": "python",
   "name": "python3"
  },
  "language_info": {
   "codemirror_mode": {
    "name": "ipython",
    "version": 3
   },
   "file_extension": ".py",
   "mimetype": "text/x-python",
   "name": "python",
   "nbconvert_exporter": "python",
   "pygments_lexer": "ipython3",
   "version": "3.6.5"
  }
 },
 "nbformat": 4,
 "nbformat_minor": 2
}
