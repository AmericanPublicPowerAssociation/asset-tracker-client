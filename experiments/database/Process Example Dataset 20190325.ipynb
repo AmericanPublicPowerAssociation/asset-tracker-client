{
 "cells": [
  {
   "cell_type": "code",
   "execution_count": 4,
   "metadata": {},
   "outputs": [],
   "source": [
    "source_path = '../../client/src/datasets/assets-greensboro.json'"
   ]
  },
  {
   "cell_type": "code",
   "execution_count": 8,
   "metadata": {},
   "outputs": [],
   "source": [
    "import json\n",
    "assets = json.load(open(source_path))"
   ]
  },
  {
   "cell_type": "code",
   "execution_count": 10,
   "metadata": {},
   "outputs": [
    {
     "data": {
      "text/plain": [
       "{'id': 'aqCS',\n",
       " 'typeId': 'p',\n",
       " 'name': 'Pole 1',\n",
       " 'location': [-79.65685579971908, 36.17972957289909],\n",
       " 'parentIds': ['abH0', 'aiuT'],\n",
       " 'childIds': ['aiQ2']}"
      ]
     },
     "execution_count": 10,
     "metadata": {},
     "output_type": "execute_result"
    }
   ],
   "source": [
    "assets[0]"
   ]
  },
  {
   "cell_type": "code",
   "execution_count": 11,
   "metadata": {},
   "outputs": [],
   "source": [
    "asset_by_id = {_['id']: _ for _ in assets}"
   ]
  },
  {
   "cell_type": "code",
   "execution_count": 9,
   "metadata": {},
   "outputs": [],
   "source": [
    "from shapely.geometry import LineString, Point\n",
    "for asset in assets:\n",
    "    if 'location' in asset:\n",
    "        asset['geometry'] = Point(asset['location'])\n",
    "    elif asset['typeId'] == 'l':\n",
    "        pole_assets = [asset_by_id[_] for _ in asset['childIds']]\n",
    "        pole_xys = [_['location'] for _ in pole_assets]\n",
    "        asset['geometry'] = Li"
   ]
  },
  {
   "cell_type": "code",
   "execution_count": null,
   "metadata": {},
   "outputs": [],
   "source": []
  }
 ],
 "metadata": {
  "kernelspec": {
   "display_name": "Python 3",
   "language": "python",
   "name": "python3"
  },
  "language_info": {
   "codemirror_mode": {
    "name": "ipython",
    "version": 3
   },
   "file_extension": ".py",
   "mimetype": "text/x-python",
   "name": "python",
   "nbconvert_exporter": "python",
   "pygments_lexer": "ipython3",
   "version": "3.6.6"
  }
 },
 "nbformat": 4,
 "nbformat_minor": 2
}
