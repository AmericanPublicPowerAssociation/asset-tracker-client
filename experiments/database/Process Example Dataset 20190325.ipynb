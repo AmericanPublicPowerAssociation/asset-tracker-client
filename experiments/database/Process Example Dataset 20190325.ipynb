{
 "cells": [
  {
   "cell_type": "code",
   "execution_count": 1,
   "metadata": {},
   "outputs": [],
   "source": [
    "source_path = '../../client/src/datasets/assets-greensboro.json'"
   ]
  },
  {
   "cell_type": "code",
   "execution_count": 2,
   "metadata": {},
   "outputs": [],
   "source": [
    "import json\n",
    "assets = json.load(open(source_path))"
   ]
  },
  {
   "cell_type": "code",
   "execution_count": 3,
   "metadata": {},
   "outputs": [
    {
     "data": {
      "text/plain": [
       "{'childIds': ['aiQ2'],\n",
       " 'geometry': {'coordinates': [-79.65685579971908, 36.17972957289909],\n",
       "  'type': 'Point'},\n",
       " 'id': 'aqCS',\n",
       " 'location': [-79.65685579971908, 36.17972957289909],\n",
       " 'name': 'Pole 1',\n",
       " 'parentIds': ['abH0', 'aiuT'],\n",
       " 'typeId': 'p'}"
      ]
     },
     "execution_count": 3,
     "metadata": {},
     "output_type": "execute_result"
    }
   ],
   "source": [
    "assets[0]"
   ]
  },
  {
   "cell_type": "code",
   "execution_count": 4,
   "metadata": {},
   "outputs": [],
   "source": [
    "asset_by_id = {_['id']: _ for _ in assets}"
   ]
  },
  {
   "cell_type": "code",
   "execution_count": 5,
   "metadata": {},
   "outputs": [],
   "source": [
    "def make_point_geojson(xy):\n",
    "    return {\n",
    "        'type': 'Point',\n",
    "        'coordinates': xy,\n",
    "    }\n",
    "\n",
    "def make_line_geojson(xys):\n",
    "    return {\n",
    "        'type': 'LineString',\n",
    "        'coordinates': xys,\n",
    "    }"
   ]
  },
  {
   "cell_type": "code",
   "execution_count": 6,
   "metadata": {},
   "outputs": [],
   "source": [
    "for asset in assets:\n",
    "    if 'location' in asset:\n",
    "        xy = asset['location']\n",
    "        asset['geometry'] = make_point_geojson(xy)\n",
    "    elif asset['typeId'] == 'l':\n",
    "        pole_assets = [asset_by_id[_] for _ in asset['childIds']]\n",
    "        xys = [_['location'] for _ in pole_assets]\n",
    "        asset['geometry'] = make_line_geojson(xys)\n",
    "    elif asset['parentIds']:\n",
    "        for parent_id in asset['parentIds']:\n",
    "            parent_asset = asset_by_id[parent_id]\n",
    "            if 'location' in parent_asset:\n",
    "                xy = parent_asset['location']\n",
    "                asset['geometry'] = make_point_geojson(xy)\n",
    "                break\n",
    "    if 'wkt' in asset:\n",
    "        del asset['wkt']"
   ]
  },
  {
   "cell_type": "code",
   "execution_count": null,
   "metadata": {},
   "outputs": [],
   "source": []
  },
  {
   "cell_type": "code",
   "execution_count": 7,
   "metadata": {},
   "outputs": [
    {
     "name": "stdout",
     "output_type": "stream",
     "text": [
      "{'id': 'abkC', 'typeId': 'xc', 'name': 'Recloser 9', 'parentIds': [], 'connectedIds': ['ahwI', 'ahwS', 'ahwT', 'akM1', 'abku', 'abkv', 'abkw', 'abkz', 'abkA', 'abkB', 'abkD', 'abkH', 'abkI', 'abkK', 'abkL', 'abkN', 'abkO']}\n"
     ]
    }
   ],
   "source": [
    "from shapely.geometry import shape\n",
    "gs = []\n",
    "for asset in assets:\n",
    "    try:\n",
    "        g = shape(asset['geometry'])\n",
    "    except KeyError:\n",
    "        print(asset)\n",
    "    else:\n",
    "        gs.append(g)"
   ]
  },
  {
   "cell_type": "code",
   "execution_count": 8,
   "metadata": {},
   "outputs": [],
   "source": [
    "from shapely.geometry import GeometryCollection\n",
    "gc = GeometryCollection(gs)"
   ]
  },
  {
   "cell_type": "code",
   "execution_count": 9,
   "metadata": {},
   "outputs": [
    {
     "data": {
      "text/plain": [
       "(-79.71827225092947, 36.13830085783994, -79.49956870558653, 36.30469203650488)"
      ]
     },
     "execution_count": 9,
     "metadata": {},
     "output_type": "execute_result"
    }
   ],
   "source": [
    "gc.bounds"
   ]
  },
  {
   "cell_type": "code",
   "execution_count": 10,
   "metadata": {},
   "outputs": [
    {
     "data": {
      "text/plain": [
       "(-79.60975239966439, 36.20116405881486)"
      ]
     },
     "execution_count": 10,
     "metadata": {},
     "output_type": "execute_result"
    }
   ],
   "source": [
    "gc.centroid.coords[0]"
   ]
  },
  {
   "cell_type": "code",
   "execution_count": 11,
   "metadata": {},
   "outputs": [
    {
     "data": {
      "text/plain": [
       "{0.42, 12.47, 69.0}"
      ]
     },
     "execution_count": 11,
     "metadata": {},
     "output_type": "execute_result"
    }
   ],
   "source": [
    "values = set()\n",
    "for asset in assets:\n",
    "    if asset['typeId'] == 'l':\n",
    "        values.add(asset['KV'])\n",
    "values"
   ]
  },
  {
   "cell_type": "code",
   "execution_count": 12,
   "metadata": {},
   "outputs": [
    {
     "data": {
      "text/plain": [
       "{0.42, 12.47}"
      ]
     },
     "execution_count": 12,
     "metadata": {},
     "output_type": "execute_result"
    }
   ],
   "source": [
    "values = set()\n",
    "for asset in assets:\n",
    "    if asset['typeId'] == 'm':\n",
    "        values.add(asset['KV'])\n",
    "values"
   ]
  },
  {
   "cell_type": "code",
   "execution_count": 18,
   "metadata": {},
   "outputs": [
    {
     "data": {
      "text/plain": [
       "{0.76, 1.66, 2.74, 16.11, 38.25, 40.74, 139.55}"
      ]
     },
     "execution_count": 18,
     "metadata": {},
     "output_type": "execute_result"
    }
   ],
   "source": [
    "values = set()\n",
    "for asset in assets:\n",
    "    if asset['typeId'] == 'm':\n",
    "        values.add(asset['peakKW'])\n",
    "values"
   ]
  },
  {
   "cell_type": "code",
   "execution_count": 17,
   "metadata": {},
   "outputs": [
    {
     "data": {
      "text/plain": [
       "{'KV': 0.42,\n",
       " 'connectedIds': ['abP2'],\n",
       " 'geometry': {'coordinates': [-79.63002659266567, 36.2809205913053],\n",
       "  'type': 'Point'},\n",
       " 'id': 'akM2',\n",
       " 'location': [-79.63002659266567, 36.2809205913053],\n",
       " 'name': 'Meter 1',\n",
       " 'parentIds': ['aqM3'],\n",
       " 'peakKW': 0.76,\n",
       " 'typeId': 'm',\n",
       " 'yearlyKWH': 4147.0}"
      ]
     },
     "execution_count": 17,
     "metadata": {},
     "output_type": "execute_result"
    }
   ],
   "source": [
    "asset"
   ]
  },
  {
   "cell_type": "code",
   "execution_count": 13,
   "metadata": {},
   "outputs": [],
   "source": [
    "for asset in assets:\n",
    "    if asset['typeId'] == 'st':\n",
    "        asset['outKV'] = 69.0"
   ]
  },
  {
   "cell_type": "code",
   "execution_count": 14,
   "metadata": {},
   "outputs": [
    {
     "data": {
      "text/plain": [
       "{12.47, 69.0}"
      ]
     },
     "execution_count": 14,
     "metadata": {},
     "output_type": "execute_result"
    }
   ],
   "source": [
    "values = set()\n",
    "for asset in assets:\n",
    "    if asset['typeId'].startswith('s'):\n",
    "        values.add(asset['outKV'])\n",
    "        asset['KV'] = asset['outKV']\n",
    "values"
   ]
  },
  {
   "cell_type": "code",
   "execution_count": 15,
   "metadata": {},
   "outputs": [],
   "source": [
    "json.dump(assets, open(source_path, 'wt'), indent=2)"
   ]
  }
 ],
 "metadata": {
  "kernelspec": {
   "display_name": "Python 3",
   "language": "python",
   "name": "python3"
  },
  "language_info": {
   "codemirror_mode": {
    "name": "ipython",
    "version": 3
   },
   "file_extension": ".py",
   "mimetype": "text/x-python",
   "name": "python",
   "nbconvert_exporter": "python",
   "pygments_lexer": "ipython3",
   "version": "3.6.6"
  }
 },
 "nbformat": 4,
 "nbformat_minor": 2
}
