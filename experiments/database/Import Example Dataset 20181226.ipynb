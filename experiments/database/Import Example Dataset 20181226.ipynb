{
 "cells": [
  {
   "cell_type": "code",
   "execution_count": 16,
   "metadata": {},
   "outputs": [],
   "source": [
    "import networkx as nx\n",
    "g = nx.read_gpickle('example.pkl')"
   ]
  },
  {
   "cell_type": "code",
   "execution_count": 17,
   "metadata": {},
   "outputs": [],
   "source": [
    "from models import Asset, AssetType, database"
   ]
  },
  {
   "cell_type": "code",
   "execution_count": 18,
   "metadata": {},
   "outputs": [
    {
     "data": {
      "text/plain": [
       "'BreQXxBLYwEgLevqk5uUKJGQ0PIrwtUa'"
      ]
     },
     "execution_count": 18,
     "metadata": {},
     "output_type": "execute_result"
    }
   ],
   "source": [
    "from invisibleroads_macros.security import make_random_string\n",
    "make_random_string(32)"
   ]
  },
  {
   "cell_type": "code",
   "execution_count": 19,
   "metadata": {},
   "outputs": [
    {
     "data": {
      "text/plain": [
       "'NdqbVDeLiaj2dUJc'"
      ]
     },
     "execution_count": 19,
     "metadata": {},
     "output_type": "execute_result"
    }
   ],
   "source": [
    "make_random_string(16)"
   ]
  },
  {
   "cell_type": "code",
   "execution_count": 20,
   "metadata": {},
   "outputs": [
    {
     "data": {
      "text/plain": [
       "<AssetType.Station: 0>"
      ]
     },
     "execution_count": 20,
     "metadata": {},
     "output_type": "execute_result"
    }
   ],
   "source": [
    "AssetType['Station']"
   ]
  },
  {
   "cell_type": "code",
   "execution_count": 21,
   "metadata": {},
   "outputs": [
    {
     "name": "stdout",
     "output_type": "stream",
     "text": [
      "POINT (-79.63188764619923 36.28222830444043)\n"
     ]
    }
   ],
   "source": [
    "for n, d in g.nodes(data=True):\n",
    "    geometry = d['geometry_object']\n",
    "    print(geometry.wkt)\n",
    "    break"
   ]
  },
  {
   "cell_type": "code",
   "execution_count": 7,
   "metadata": {},
   "outputs": [],
   "source": [
    "# Add assets\n",
    "for n, d in g.nodes(data=True):\n",
    "    d = dict(d)\n",
    "    asset_name = n\n",
    "    type_name = d.pop('geometry_layer')\n",
    "    geometry = d.pop('geometry_object')\n",
    "    asset = Asset(\n",
    "        id=make_random_string(16),\n",
    "        name=asset_name,\n",
    "        type=AssetType[type_name.capitalize()],\n",
    "        geometry=geometry,\n",
    "        properties=d)\n",
    "    database.add(asset)\n",
    "database.commit()"
   ]
  },
  {
   "cell_type": "code",
   "execution_count": 15,
   "metadata": {},
   "outputs": [
    {
     "name": "stdout",
     "output_type": "stream",
     "text": [
      "Branch CMainC ConnGroup DemP_kW DemQ_kVAr E_kWh Energy_kWh Equip FailRate Feeder InSettlem InvC InvCOut MVA MaxNumOut NMaxTransf NVoltLev NVolt_kV NmaxOutputs NmaxTransf Node NodeA NodeB NomV NomV_kV NumCust NumLev NumTransf OH P PMainC PMainT Phases PhasesV Pinst_kW Ppeak_kW Q Qinst_kVAr Qmax Qmin Qpeak_kVAr RArea_m2 ReliabZone Rsc Size_kVA Stage Subest Tap(pu) TapMax TapMin Tapax Type VNom Vnom1 Vnom2 Vpu Vpu_obj Xsc Xsc(pu) Y11(pu) Y12(pu) Y21(pu) Y22(pu) Yearly_kWh geometry_layer geometry_object geometry_proj4\n"
     ]
    }
   ],
   "source": [
    "keys = set()\n",
    "for n, d in g.nodes(data=True):\n",
    "    keys.update(d.keys())\n",
    "print(' '.join(sorted(keys)))"
   ]
  },
  {
   "cell_type": "code",
   "execution_count": 8,
   "metadata": {},
   "outputs": [],
   "source": [
    "asset = database.query(Asset).first()"
   ]
  },
  {
   "cell_type": "code",
   "execution_count": 9,
   "metadata": {},
   "outputs": [
    {
     "data": {
      "text/plain": [
       "<AssetType.Meter: 5>"
      ]
     },
     "execution_count": 9,
     "metadata": {},
     "output_type": "execute_result"
    }
   ],
   "source": [
    "asset.type"
   ]
  },
  {
   "cell_type": "code",
   "execution_count": null,
   "metadata": {},
   "outputs": [],
   "source": []
  },
  {
   "cell_type": "code",
   "execution_count": 10,
   "metadata": {},
   "outputs": [],
   "source": [
    "from shapely import wkb"
   ]
  },
  {
   "cell_type": "code",
   "execution_count": 11,
   "metadata": {},
   "outputs": [
    {
     "data": {
      "text/plain": [
       "'POINT (-79.63188764619923 36.28222830444043)'"
      ]
     },
     "execution_count": 11,
     "metadata": {},
     "output_type": "execute_result"
    }
   ],
   "source": [
    "a = database.query(Asset).first()\n",
    "x = a.geometry\n",
    "x.wkt"
   ]
  },
  {
   "cell_type": "code",
   "execution_count": 12,
   "metadata": {},
   "outputs": [
    {
     "data": {
      "text/plain": [
       "20453"
      ]
     },
     "execution_count": 12,
     "metadata": {},
     "output_type": "execute_result"
    }
   ],
   "source": [
    "database.query(Asset).count()"
   ]
  },
  {
   "cell_type": "code",
   "execution_count": 11,
   "metadata": {},
   "outputs": [],
   "source": [
    "# Add connections\n",
    "for name1, name2, d in g.edges(data=True):\n",
    "    asset1 = database.query(Asset).filter_by(name=name1).first()\n",
    "    asset2 = database.query(Asset).filter_by(name=name2).first()\n",
    "    print(asset1.type_)\n",
    "    asset1.connected_assets.append(asset2)"
   ]
  },
  {
   "cell_type": "code",
   "execution_count": null,
   "metadata": {},
   "outputs": [],
   "source": []
  },
  {
   "cell_type": "code",
   "execution_count": null,
   "metadata": {},
   "outputs": [],
   "source": []
  },
  {
   "cell_type": "code",
   "execution_count": 12,
   "metadata": {},
   "outputs": [],
   "source": [
    "database.commit()"
   ]
  },
  {
   "cell_type": "code",
   "execution_count": 13,
   "metadata": {},
   "outputs": [
    {
     "data": {
      "image/svg+xml": [
       "<svg xmlns=\"http://www.w3.org/2000/svg\" xmlns:xlink=\"http://www.w3.org/1999/xlink\" width=\"100.0\" height=\"100.0\" viewBox=\"-80.70794395058182 35.164388548658096 2.0 2.0\" preserveAspectRatio=\"xMinYMin meet\"><g transform=\"matrix(1,0,0,-1,0,72.32877709731619)\"><circle cx=\"-79.70794395058182\" cy=\"36.164388548658096\" r=\"0.06\" stroke=\"#555555\" stroke-width=\"0.02\" fill=\"#66cc99\" opacity=\"0.6\" /></g></svg>"
      ],
      "text/plain": [
       "<shapely.geometry.point.Point at 0x7f40eb7a50b8>"
      ]
     },
     "execution_count": 13,
     "metadata": {},
     "output_type": "execute_result"
    }
   ],
   "source": [
    "geometry"
   ]
  },
  {
   "cell_type": "code",
   "execution_count": 18,
   "metadata": {},
   "outputs": [
    {
     "data": {
      "text/plain": [
       "'S_nSSEE2_12.47'"
      ]
     },
     "execution_count": 18,
     "metadata": {},
     "output_type": "execute_result"
    }
   ],
   "source": [
    "database.query(Asset).filter_by(_geometry=geometry.wkt).first().name"
   ]
  },
  {
   "cell_type": "code",
   "execution_count": 22,
   "metadata": {},
   "outputs": [],
   "source": [
    "for line_asset in database.query(Asset).filter_by(type=AssetType.Line):\n",
    "    line = line_asset.geometry\n",
    "    print(line.coords)\n",
    "    break"
   ]
  },
  {
   "cell_type": "code",
   "execution_count": 20,
   "metadata": {},
   "outputs": [],
   "source": [
    "# Add contents\n",
    "from shapely.geometry import Point\n",
    "\n",
    "# For each line, add pole at each point\n",
    "for line_asset in database.query(Asset).filter_by(type=AssetType.Line):\n",
    "    line = line_asset.geometry\n",
    "    for xy in line.coords:\n",
    "        print(xy)\n",
    "        point = Point(xy)\n",
    "        pole_asset = database.query(Asset).filter_by(_geometry=point.wkt).first()\n",
    "        if not pole_asset:\n",
    "            pole_asset = Asset(\n",
    "                id=make_random_string(16),\n",
    "                name='Pole %s' % id,\n",
    "                type=AssetType.Pole,\n",
    "                geometry=point)\n",
    "            database.add(pole_asset)\n",
    "        line.contained_assets.append(pole_asset)\n",
    "database.commit()"
   ]
  },
  {
   "cell_type": "code",
   "execution_count": 21,
   "metadata": {},
   "outputs": [
    {
     "data": {
      "text/plain": [
       "20453"
      ]
     },
     "execution_count": 21,
     "metadata": {},
     "output_type": "execute_result"
    }
   ],
   "source": [
    "database.query(Asset).count()"
   ]
  },
  {
   "cell_type": "code",
   "execution_count": null,
   "metadata": {},
   "outputs": [],
   "source": [
    "# find assets that are close to each other"
   ]
  }
 ],
 "metadata": {
  "kernelspec": {
   "display_name": "Python 3",
   "language": "python",
   "name": "python3"
  },
  "language_info": {
   "codemirror_mode": {
    "name": "ipython",
    "version": 3
   },
   "file_extension": ".py",
   "mimetype": "text/x-python",
   "name": "python",
   "nbconvert_exporter": "python",
   "pygments_lexer": "ipython3",
   "version": "3.6.6"
  }
 },
 "nbformat": 4,
 "nbformat_minor": 2
}
