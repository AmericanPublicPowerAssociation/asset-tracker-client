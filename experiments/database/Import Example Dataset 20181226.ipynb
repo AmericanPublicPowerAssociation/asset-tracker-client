{
 "cells": [
  {
   "cell_type": "code",
   "execution_count": 1,
   "metadata": {},
   "outputs": [],
   "source": [
    "from os.path import exists, join, splitext\n",
    "from urllib.request import urlretrieve\n",
    "\n",
    "archive_url = (\n",
    "    'https://egriddata.org/sites/default/files/'\n",
    "    'GSO_RNM_GIS_Network.zip')\n",
    "archive_path = '/tmp/greensboro-synthetic-network.zip'\n",
    "archive_folder = splitext(archive_path)[0]\n",
    "if not exists(archive_path):\n",
    "    urlretrieve(archive_url, archive_path)\n",
    "if not exists(archive_folder):\n",
    "    archive_folder = uncompress(archive_path)\n",
    "source_folder = join(archive_folder, 'GSO_RNM_GIS_Network', 'Rural')"
   ]
  },
  {
   "cell_type": "code",
   "execution_count": 2,
   "metadata": {},
   "outputs": [
    {
     "name": "stdout",
     "output_type": "stream",
     "text": [
      "/tmp/greensboro-synthetic-network/GSO_RNM_GIS_Network/Rural/DistribTransf_N.shp\n",
      "/tmp/greensboro-synthetic-network/GSO_RNM_GIS_Network/Rural/DummyEquip.shp\n",
      "/tmp/greensboro-synthetic-network/GSO_RNM_GIS_Network/Rural/HVMVSubstation_N.shp\n",
      "/tmp/greensboro-synthetic-network/GSO_RNM_GIS_Network/Rural/Line_N.shp\n",
      "/tmp/greensboro-synthetic-network/GSO_RNM_GIS_Network/Rural/Network_NEW_branches.shp\n",
      "/tmp/greensboro-synthetic-network/GSO_RNM_GIS_Network/Rural/Network_NEW_nodes.shp\n",
      "/tmp/greensboro-synthetic-network/GSO_RNM_GIS_Network/Rural/Network_nodes.shp\n",
      "/tmp/greensboro-synthetic-network/GSO_RNM_GIS_Network/Rural/NewConsumerGreenfield_N.shp\n",
      "/tmp/greensboro-synthetic-network/GSO_RNM_GIS_Network/Rural/StreetMap_branches.shp\n",
      "/tmp/greensboro-synthetic-network/GSO_RNM_GIS_Network/Rural/StreetMap_nodes.shp\n",
      "/tmp/greensboro-synthetic-network/GSO_RNM_GIS_Network/Rural/SwitchingDevices_N.shp\n",
      "/tmp/greensboro-synthetic-network/GSO_RNM_GIS_Network/Rural/Transformer_N.shp\n",
      "/tmp/greensboro-synthetic-network/GSO_RNM_GIS_Network/Rural/TransSubstation_N.shp\n",
      "/tmp/greensboro-synthetic-network/GSO_RNM_GIS_Network/Rural/VoltageRegulator_N.shp\n"
     ]
    }
   ],
   "source": [
    "ls $source_folder/*.shp"
   ]
  },
  {
   "cell_type": "code",
   "execution_count": 3,
   "metadata": {},
   "outputs": [
    {
     "data": {
      "text/html": [
       "<div>\n",
       "<style scoped>\n",
       "    .dataframe tbody tr th:only-of-type {\n",
       "        vertical-align: middle;\n",
       "    }\n",
       "\n",
       "    .dataframe tbody tr th {\n",
       "        vertical-align: top;\n",
       "    }\n",
       "\n",
       "    .dataframe thead th {\n",
       "        text-align: right;\n",
       "    }\n",
       "</style>\n",
       "<table border=\"1\" class=\"dataframe\">\n",
       "  <thead>\n",
       "    <tr style=\"text-align: right;\">\n",
       "      <th></th>\n",
       "      <th>Node</th>\n",
       "      <th>ConnGroup</th>\n",
       "      <th>InSettlem</th>\n",
       "      <th>ReliabZone</th>\n",
       "      <th>OH</th>\n",
       "      <th>NomV</th>\n",
       "      <th>Vpu</th>\n",
       "      <th>P</th>\n",
       "      <th>Q</th>\n",
       "      <th>Qmin</th>\n",
       "      <th>Qmax</th>\n",
       "      <th>Vpu_obj</th>\n",
       "      <th>Phases</th>\n",
       "      <th>PhasesV</th>\n",
       "      <th>Subest</th>\n",
       "      <th>Feeder</th>\n",
       "      <th>geometry_object</th>\n",
       "      <th>geometry_layer</th>\n",
       "      <th>geometry_proj4</th>\n",
       "    </tr>\n",
       "  </thead>\n",
       "  <tbody>\n",
       "    <tr>\n",
       "      <th>0</th>\n",
       "      <td>ST_MAT</td>\n",
       "      <td>1</td>\n",
       "      <td>x</td>\n",
       "      <td>x</td>\n",
       "      <td>x</td>\n",
       "      <td>230.00</td>\n",
       "      <td>1</td>\n",
       "      <td>26100.3 ;</td>\n",
       "      <td>17178.8 ;</td>\n",
       "      <td>0</td>\n",
       "      <td>0</td>\n",
       "      <td>1</td>\n",
       "      <td>0P</td>\n",
       "      <td>0P_AT</td>\n",
       "      <td>True</td>\n",
       "      <td>True</td>\n",
       "      <td>POINT (625155.6499999999 4018544.7)</td>\n",
       "      <td>Network_nodes</td>\n",
       "      <td>+proj=longlat +datum=WGS84 +no_defs</td>\n",
       "    </tr>\n",
       "    <tr>\n",
       "      <th>1</th>\n",
       "      <td>RCLV33</td>\n",
       "      <td>1</td>\n",
       "      <td>x</td>\n",
       "      <td>S</td>\n",
       "      <td>x</td>\n",
       "      <td>0.42</td>\n",
       "      <td>1.00118 ;</td>\n",
       "      <td>-0.760008</td>\n",
       "      <td>-0.370004</td>\n",
       "      <td>0</td>\n",
       "      <td>0</td>\n",
       "      <td>0</td>\n",
       "      <td>A</td>\n",
       "      <td>A_BT</td>\n",
       "      <td>S_nSSEE1_12.47</td>\n",
       "      <td>S_nSSEE1_12.47 -&gt; S_nCCTT2619</td>\n",
       "      <td>POINT (622867.4 4016120.6)</td>\n",
       "      <td>Network_nodes</td>\n",
       "      <td>+proj=longlat +datum=WGS84 +no_defs</td>\n",
       "    </tr>\n",
       "    <tr>\n",
       "      <th>2</th>\n",
       "      <td>RCLV47</td>\n",
       "      <td>1</td>\n",
       "      <td>x</td>\n",
       "      <td>S</td>\n",
       "      <td>x</td>\n",
       "      <td>0.42</td>\n",
       "      <td>0.999787 ;</td>\n",
       "      <td>-0.760008</td>\n",
       "      <td>-0.370004</td>\n",
       "      <td>0</td>\n",
       "      <td>0</td>\n",
       "      <td>0</td>\n",
       "      <td>B</td>\n",
       "      <td>B_BT</td>\n",
       "      <td>S_nSSEE1_12.47</td>\n",
       "      <td>S_nSSEE1_12.47 -&gt; S_nCCTT2619</td>\n",
       "      <td>POINT (622900.3 4016208)</td>\n",
       "      <td>Network_nodes</td>\n",
       "      <td>+proj=longlat +datum=WGS84 +no_defs</td>\n",
       "    </tr>\n",
       "  </tbody>\n",
       "</table>\n",
       "</div>"
      ],
      "text/plain": [
       "     Node  ConnGroup InSettlem ReliabZone OH    NomV         Vpu          P  \\\n",
       "0  ST_MAT          1         x          x  x  230.00           1  26100.3 ;   \n",
       "1  RCLV33          1         x          S  x    0.42   1.00118 ;  -0.760008   \n",
       "2  RCLV47          1         x          S  x    0.42  0.999787 ;  -0.760008   \n",
       "\n",
       "           Q Qmin Qmax Vpu_obj Phases PhasesV          Subest  \\\n",
       "0  17178.8 ;    0    0       1     0P   0P_AT            True   \n",
       "1  -0.370004    0    0       0      A    A_BT  S_nSSEE1_12.47   \n",
       "2  -0.370004    0    0       0      B    B_BT  S_nSSEE1_12.47   \n",
       "\n",
       "                          Feeder                      geometry_object  \\\n",
       "0                           True  POINT (625155.6499999999 4018544.7)   \n",
       "1  S_nSSEE1_12.47 -> S_nCCTT2619           POINT (622867.4 4016120.6)   \n",
       "2  S_nSSEE1_12.47 -> S_nCCTT2619             POINT (622900.3 4016208)   \n",
       "\n",
       "  geometry_layer                       geometry_proj4  \n",
       "0  Network_nodes  +proj=longlat +datum=WGS84 +no_defs  \n",
       "1  Network_nodes  +proj=longlat +datum=WGS84 +no_defs  \n",
       "2  Network_nodes  +proj=longlat +datum=WGS84 +no_defs  "
      ]
     },
     "execution_count": 3,
     "metadata": {},
     "output_type": "execute_result"
    }
   ],
   "source": [
    "import geotable\n",
    "t = geotable.load('/tmp/greensboro-synthetic-network/GSO_RNM_GIS_Network/Rural/Network_nodes.shp')\n",
    "t[:3]"
   ]
  },
  {
   "cell_type": "code",
   "execution_count": 4,
   "metadata": {},
   "outputs": [
    {
     "data": {
      "text/html": [
       "<div>\n",
       "<style scoped>\n",
       "    .dataframe tbody tr th:only-of-type {\n",
       "        vertical-align: middle;\n",
       "    }\n",
       "\n",
       "    .dataframe tbody tr th {\n",
       "        vertical-align: top;\n",
       "    }\n",
       "\n",
       "    .dataframe thead th {\n",
       "        text-align: right;\n",
       "    }\n",
       "</style>\n",
       "<table border=\"1\" class=\"dataframe\">\n",
       "  <thead>\n",
       "    <tr style=\"text-align: right;\">\n",
       "      <th></th>\n",
       "      <th>Node</th>\n",
       "      <th>ConnGroup</th>\n",
       "      <th>InSettlem</th>\n",
       "      <th>ReliabZone</th>\n",
       "      <th>OH</th>\n",
       "      <th>NomV</th>\n",
       "      <th>Vpu</th>\n",
       "      <th>P</th>\n",
       "      <th>Q</th>\n",
       "      <th>Qmin</th>\n",
       "      <th>Qmax</th>\n",
       "      <th>Vpu_obj</th>\n",
       "      <th>Phases</th>\n",
       "      <th>PhasesV</th>\n",
       "      <th>Subest</th>\n",
       "      <th>Feeder</th>\n",
       "      <th>geometry_object</th>\n",
       "      <th>geometry_layer</th>\n",
       "      <th>geometry_proj4</th>\n",
       "    </tr>\n",
       "  </thead>\n",
       "  <tbody>\n",
       "    <tr>\n",
       "      <th>0</th>\n",
       "      <td>RCLV33</td>\n",
       "      <td>1</td>\n",
       "      <td>x</td>\n",
       "      <td>S</td>\n",
       "      <td>x</td>\n",
       "      <td>0.42</td>\n",
       "      <td>1.00118 ;</td>\n",
       "      <td>-0.760008</td>\n",
       "      <td>-0.370004</td>\n",
       "      <td>0</td>\n",
       "      <td>0</td>\n",
       "      <td>0</td>\n",
       "      <td>A</td>\n",
       "      <td>A_BT</td>\n",
       "      <td>S_nSSEE1_12.47</td>\n",
       "      <td>S_nSSEE1_12.47 -&gt; S_nCCTT2619</td>\n",
       "      <td>POINT (622867.4 4016120.6)</td>\n",
       "      <td>Network_NEW_nodes</td>\n",
       "      <td>+proj=longlat +datum=WGS84 +no_defs</td>\n",
       "    </tr>\n",
       "    <tr>\n",
       "      <th>1</th>\n",
       "      <td>RCLV47</td>\n",
       "      <td>1</td>\n",
       "      <td>x</td>\n",
       "      <td>S</td>\n",
       "      <td>x</td>\n",
       "      <td>0.42</td>\n",
       "      <td>0.999787 ;</td>\n",
       "      <td>-0.760008</td>\n",
       "      <td>-0.370004</td>\n",
       "      <td>0</td>\n",
       "      <td>0</td>\n",
       "      <td>0</td>\n",
       "      <td>B</td>\n",
       "      <td>B_BT</td>\n",
       "      <td>S_nSSEE1_12.47</td>\n",
       "      <td>S_nSSEE1_12.47 -&gt; S_nCCTT2619</td>\n",
       "      <td>POINT (622900.3 4016208)</td>\n",
       "      <td>Network_NEW_nodes</td>\n",
       "      <td>+proj=longlat +datum=WGS84 +no_defs</td>\n",
       "    </tr>\n",
       "    <tr>\n",
       "      <th>2</th>\n",
       "      <td>RCLV37</td>\n",
       "      <td>1</td>\n",
       "      <td>x</td>\n",
       "      <td>S</td>\n",
       "      <td>x</td>\n",
       "      <td>0.42</td>\n",
       "      <td>1.00084 ;</td>\n",
       "      <td>-2.74003</td>\n",
       "      <td>-1.33001</td>\n",
       "      <td>0</td>\n",
       "      <td>0</td>\n",
       "      <td>0</td>\n",
       "      <td>A</td>\n",
       "      <td>A_BT</td>\n",
       "      <td>S_nSSEE1_12.47</td>\n",
       "      <td>S_nSSEE1_12.47 -&gt; S_nCCTT2619</td>\n",
       "      <td>POINT (622858.9 4016228.1)</td>\n",
       "      <td>Network_NEW_nodes</td>\n",
       "      <td>+proj=longlat +datum=WGS84 +no_defs</td>\n",
       "    </tr>\n",
       "  </tbody>\n",
       "</table>\n",
       "</div>"
      ],
      "text/plain": [
       "     Node  ConnGroup InSettlem ReliabZone OH  NomV         Vpu          P  \\\n",
       "0  RCLV33          1         x          S  x  0.42   1.00118 ;  -0.760008   \n",
       "1  RCLV47          1         x          S  x  0.42  0.999787 ;  -0.760008   \n",
       "2  RCLV37          1         x          S  x  0.42   1.00084 ;   -2.74003   \n",
       "\n",
       "           Q Qmin Qmax Vpu_obj Phases PhasesV          Subest  \\\n",
       "0  -0.370004    0    0       0      A    A_BT  S_nSSEE1_12.47   \n",
       "1  -0.370004    0    0       0      B    B_BT  S_nSSEE1_12.47   \n",
       "2   -1.33001    0    0       0      A    A_BT  S_nSSEE1_12.47   \n",
       "\n",
       "                          Feeder             geometry_object  \\\n",
       "0  S_nSSEE1_12.47 -> S_nCCTT2619  POINT (622867.4 4016120.6)   \n",
       "1  S_nSSEE1_12.47 -> S_nCCTT2619    POINT (622900.3 4016208)   \n",
       "2  S_nSSEE1_12.47 -> S_nCCTT2619  POINT (622858.9 4016228.1)   \n",
       "\n",
       "      geometry_layer                       geometry_proj4  \n",
       "0  Network_NEW_nodes  +proj=longlat +datum=WGS84 +no_defs  \n",
       "1  Network_NEW_nodes  +proj=longlat +datum=WGS84 +no_defs  \n",
       "2  Network_NEW_nodes  +proj=longlat +datum=WGS84 +no_defs  "
      ]
     },
     "execution_count": 4,
     "metadata": {},
     "output_type": "execute_result"
    }
   ],
   "source": [
    "import geotable\n",
    "t = geotable.load('/tmp/greensboro-synthetic-network/GSO_RNM_GIS_Network/Rural/Network_NEW_nodes.shp')\n",
    "t[:3]"
   ]
  },
  {
   "cell_type": "code",
   "execution_count": 5,
   "metadata": {},
   "outputs": [
    {
     "data": {
      "text/plain": [
       "Node                                            RCLV33\n",
       "ConnGroup                                            1\n",
       "InSettlem                                            x\n",
       "ReliabZone                                           S\n",
       "OH                                                   x\n",
       "NomV                                              0.42\n",
       "Vpu                                          1.00118 ;\n",
       "P                                            -0.760008\n",
       "Q                                            -0.370004\n",
       "Qmin                                                 0\n",
       "Qmax                                                 0\n",
       "Vpu_obj                                              0\n",
       "Phases                                               A\n",
       "PhasesV                                           A_BT\n",
       "Subest                                  S_nSSEE1_12.47\n",
       "Feeder                   S_nSSEE1_12.47 -> S_nCCTT2619\n",
       "geometry_object             POINT (622867.4 4016120.6)\n",
       "geometry_layer                       Network_NEW_nodes\n",
       "geometry_proj4     +proj=longlat +datum=WGS84 +no_defs\n",
       "Name: 0, dtype: object"
      ]
     },
     "execution_count": 5,
     "metadata": {},
     "output_type": "execute_result"
    }
   ],
   "source": [
    "t.iloc[0]"
   ]
  },
  {
   "cell_type": "code",
   "execution_count": 6,
   "metadata": {},
   "outputs": [
    {
     "data": {
      "text/html": [
       "<div>\n",
       "<style scoped>\n",
       "    .dataframe tbody tr th:only-of-type {\n",
       "        vertical-align: middle;\n",
       "    }\n",
       "\n",
       "    .dataframe tbody tr th {\n",
       "        vertical-align: top;\n",
       "    }\n",
       "\n",
       "    .dataframe thead th {\n",
       "        text-align: right;\n",
       "    }\n",
       "</style>\n",
       "<table border=\"1\" class=\"dataframe\">\n",
       "  <thead>\n",
       "    <tr style=\"text-align: right;\">\n",
       "      <th></th>\n",
       "      <th>Node_A</th>\n",
       "      <th>Node_B</th>\n",
       "      <th>N_Son</th>\n",
       "      <th>N_Parent</th>\n",
       "      <th>P_a</th>\n",
       "      <th>Q_a</th>\n",
       "      <th>P_b</th>\n",
       "      <th>Q_b</th>\n",
       "      <th>P_Flow</th>\n",
       "      <th>Status</th>\n",
       "      <th>...</th>\n",
       "      <th>Y22_pu</th>\n",
       "      <th>NumLines</th>\n",
       "      <th>TimeLoc</th>\n",
       "      <th>TimeCrews</th>\n",
       "      <th>TimeRed</th>\n",
       "      <th>Subest</th>\n",
       "      <th>Feeder</th>\n",
       "      <th>geometry_object</th>\n",
       "      <th>geometry_layer</th>\n",
       "      <th>geometry_proj4</th>\n",
       "    </tr>\n",
       "  </thead>\n",
       "  <tbody>\n",
       "    <tr>\n",
       "      <th>0</th>\n",
       "      <td>S_nCCTT6</td>\n",
       "      <td>S_nCCTT6_BT</td>\n",
       "      <td>S_nCCTT6_BT</td>\n",
       "      <td>S_nCCTT6</td>\n",
       "      <td>13.2614 ;</td>\n",
       "      <td>7.42544 ;</td>\n",
       "      <td>-13.2614 ;</td>\n",
       "      <td>-6.3979 ;</td>\n",
       "      <td>15.1987 &lt;-;</td>\n",
       "      <td>1</td>\n",
       "      <td>...</td>\n",
       "      <td>(0,-2.08333)</td>\n",
       "      <td>0</td>\n",
       "      <td>0.0</td>\n",
       "      <td>0.0</td>\n",
       "      <td>0.0</td>\n",
       "      <td>S_nSSEE1_12.47</td>\n",
       "      <td>S_nSSEE1_12.47 -&gt; S_nCCTT2619</td>\n",
       "      <td>LINESTRING (623052.4 4016495.5, 623052.4 40164...</td>\n",
       "      <td>Network_NEW_branches</td>\n",
       "      <td>+proj=longlat +datum=WGS84 +no_defs</td>\n",
       "    </tr>\n",
       "    <tr>\n",
       "      <th>1</th>\n",
       "      <td>S_nCCTT4</td>\n",
       "      <td>S_nCCTT4_BT</td>\n",
       "      <td>S_nCCTT4_BT</td>\n",
       "      <td>S_nCCTT4</td>\n",
       "      <td>0.760142 ;</td>\n",
       "      <td>0.373884 ;</td>\n",
       "      <td>-0.760142 ;</td>\n",
       "      <td>-0.370019 ;</td>\n",
       "      <td>0.847116 &lt;-;</td>\n",
       "      <td>1</td>\n",
       "      <td>...</td>\n",
       "      <td>(0,-1.85185)</td>\n",
       "      <td>0</td>\n",
       "      <td>0.0</td>\n",
       "      <td>0.0</td>\n",
       "      <td>0.0</td>\n",
       "      <td>S_nSSEE1_12.47</td>\n",
       "      <td>S_nSSEE1_12.47 -&gt; S_nCCTT2619</td>\n",
       "      <td>LINESTRING (623015.2 4015964.1, 623015.2 40159...</td>\n",
       "      <td>Network_NEW_branches</td>\n",
       "      <td>+proj=longlat +datum=WGS84 +no_defs</td>\n",
       "    </tr>\n",
       "    <tr>\n",
       "      <th>2</th>\n",
       "      <td>S_nCCTT5</td>\n",
       "      <td>S_nCCTT5_BT</td>\n",
       "      <td>S_nCCTT5_BT</td>\n",
       "      <td>S_nCCTT5</td>\n",
       "      <td>12.6144 ;</td>\n",
       "      <td>7.01527 ;</td>\n",
       "      <td>-12.6144 ;</td>\n",
       "      <td>-6.08198 ;</td>\n",
       "      <td>14.4339 &lt;-;</td>\n",
       "      <td>1</td>\n",
       "      <td>...</td>\n",
       "      <td>(0,-2.08333)</td>\n",
       "      <td>0</td>\n",
       "      <td>0.0</td>\n",
       "      <td>0.0</td>\n",
       "      <td>0.0</td>\n",
       "      <td>S_nSSEE1_12.47</td>\n",
       "      <td>S_nSSEE1_12.47 -&gt; S_nCCTT2619</td>\n",
       "      <td>LINESTRING (622895.8 4015965.7, 622895.8 40159...</td>\n",
       "      <td>Network_NEW_branches</td>\n",
       "      <td>+proj=longlat +datum=WGS84 +no_defs</td>\n",
       "    </tr>\n",
       "  </tbody>\n",
       "</table>\n",
       "<p>3 rows × 29 columns</p>\n",
       "</div>"
      ],
      "text/plain": [
       "     Node_A       Node_B        N_Son  N_Parent         P_a         Q_a  \\\n",
       "0  S_nCCTT6  S_nCCTT6_BT  S_nCCTT6_BT  S_nCCTT6   13.2614 ;   7.42544 ;   \n",
       "1  S_nCCTT4  S_nCCTT4_BT  S_nCCTT4_BT  S_nCCTT4  0.760142 ;  0.373884 ;   \n",
       "2  S_nCCTT5  S_nCCTT5_BT  S_nCCTT5_BT  S_nCCTT5   12.6144 ;   7.01527 ;   \n",
       "\n",
       "           P_b          Q_b        P_Flow  Status  \\\n",
       "0   -13.2614 ;    -6.3979 ;   15.1987 <-;       1   \n",
       "1  -0.760142 ;  -0.370019 ;  0.847116 <-;       1   \n",
       "2   -12.6144 ;   -6.08198 ;   14.4339 <-;       1   \n",
       "\n",
       "                  ...                         Y22_pu  NumLines  TimeLoc  \\\n",
       "0                 ...                   (0,-2.08333)         0      0.0   \n",
       "1                 ...                   (0,-1.85185)         0      0.0   \n",
       "2                 ...                   (0,-2.08333)         0      0.0   \n",
       "\n",
       "   TimeCrews  TimeRed          Subest                         Feeder  \\\n",
       "0        0.0      0.0  S_nSSEE1_12.47  S_nSSEE1_12.47 -> S_nCCTT2619   \n",
       "1        0.0      0.0  S_nSSEE1_12.47  S_nSSEE1_12.47 -> S_nCCTT2619   \n",
       "2        0.0      0.0  S_nSSEE1_12.47  S_nSSEE1_12.47 -> S_nCCTT2619   \n",
       "\n",
       "                                     geometry_object        geometry_layer  \\\n",
       "0  LINESTRING (623052.4 4016495.5, 623052.4 40164...  Network_NEW_branches   \n",
       "1  LINESTRING (623015.2 4015964.1, 623015.2 40159...  Network_NEW_branches   \n",
       "2  LINESTRING (622895.8 4015965.7, 622895.8 40159...  Network_NEW_branches   \n",
       "\n",
       "                        geometry_proj4  \n",
       "0  +proj=longlat +datum=WGS84 +no_defs  \n",
       "1  +proj=longlat +datum=WGS84 +no_defs  \n",
       "2  +proj=longlat +datum=WGS84 +no_defs  \n",
       "\n",
       "[3 rows x 29 columns]"
      ]
     },
     "execution_count": 6,
     "metadata": {},
     "output_type": "execute_result"
    }
   ],
   "source": [
    "import geotable\n",
    "t = geotable.load('/tmp/greensboro-synthetic-network/GSO_RNM_GIS_Network/Rural/Network_NEW_branches.shp')\n",
    "t[:3]"
   ]
  },
  {
   "cell_type": "code",
   "execution_count": 7,
   "metadata": {},
   "outputs": [
    {
     "data": {
      "text/plain": [
       "Node_A                                                      S_nCCTT6\n",
       "Node_B                                                   S_nCCTT6_BT\n",
       "N_Son                                                    S_nCCTT6_BT\n",
       "N_Parent                                                    S_nCCTT6\n",
       "P_a                                                        13.2614 ;\n",
       "Q_a                                                        7.42544 ;\n",
       "P_b                                                       -13.2614 ;\n",
       "Q_b                                                        -6.3979 ;\n",
       "P_Flow                                                   15.1987 <-;\n",
       "Status                                                             1\n",
       "SNom                                                               0\n",
       "Overload                                                           0\n",
       "Margin                                                          9.77\n",
       "Sa_coef                                                            1\n",
       "Sb_coef                                                            1\n",
       "Losses_kVA                                 (2.77556e-15 , 1.02753) ;\n",
       "Y11_pu                                                  (0,-2.33906)\n",
       "Y12_pu                                                    (0,2.2075)\n",
       "Y21_pu                                                    (0,2.2075)\n",
       "Y22_pu                                                  (0,-2.08333)\n",
       "NumLines                                                           0\n",
       "TimeLoc                                                            0\n",
       "TimeCrews                                                          0\n",
       "TimeRed                                                            0\n",
       "Subest                                                S_nSSEE1_12.47\n",
       "Feeder                                 S_nSSEE1_12.47 -> S_nCCTT2619\n",
       "geometry_object    LINESTRING (623052.4 4016495.5, 623052.4 40164...\n",
       "geometry_layer                                  Network_NEW_branches\n",
       "geometry_proj4                   +proj=longlat +datum=WGS84 +no_defs\n",
       "Name: 0, dtype: object"
      ]
     },
     "execution_count": 7,
     "metadata": {},
     "output_type": "execute_result"
    }
   ],
   "source": [
    "t.iloc[0]"
   ]
  },
  {
   "cell_type": "code",
   "execution_count": 8,
   "metadata": {},
   "outputs": [
    {
     "data": {
      "text/plain": [
       "['/tmp/greensboro-synthetic-network/GSO_RNM_GIS_Network/Rural/VoltageRegulator_N.shp',\n",
       " '/tmp/greensboro-synthetic-network/GSO_RNM_GIS_Network/Rural/TransSubstation_N.shp',\n",
       " '/tmp/greensboro-synthetic-network/GSO_RNM_GIS_Network/Rural/Transformer_N.shp',\n",
       " '/tmp/greensboro-synthetic-network/GSO_RNM_GIS_Network/Rural/SwitchingDevices_N.shp',\n",
       " '/tmp/greensboro-synthetic-network/GSO_RNM_GIS_Network/Rural/StreetMap_nodes.shp',\n",
       " '/tmp/greensboro-synthetic-network/GSO_RNM_GIS_Network/Rural/StreetMap_branches.shp',\n",
       " '/tmp/greensboro-synthetic-network/GSO_RNM_GIS_Network/Rural/NewConsumerGreenfield_N.shp',\n",
       " '/tmp/greensboro-synthetic-network/GSO_RNM_GIS_Network/Rural/Network_nodes.shp',\n",
       " '/tmp/greensboro-synthetic-network/GSO_RNM_GIS_Network/Rural/Network_NEW_nodes.shp',\n",
       " '/tmp/greensboro-synthetic-network/GSO_RNM_GIS_Network/Rural/Network_NEW_branches.shp',\n",
       " '/tmp/greensboro-synthetic-network/GSO_RNM_GIS_Network/Rural/Line_N.shp',\n",
       " '/tmp/greensboro-synthetic-network/GSO_RNM_GIS_Network/Rural/HVMVSubstation_N.shp',\n",
       " '/tmp/greensboro-synthetic-network/GSO_RNM_GIS_Network/Rural/DummyEquip.shp',\n",
       " '/tmp/greensboro-synthetic-network/GSO_RNM_GIS_Network/Rural/DistribTransf_N.shp']"
      ]
     },
     "execution_count": 8,
     "metadata": {},
     "output_type": "execute_result"
    }
   ],
   "source": [
    "from glob import glob\n",
    "source_paths = glob(join(source_folder, '*.shp'))\n",
    "source_paths"
   ]
  },
  {
   "cell_type": "code",
   "execution_count": 9,
   "metadata": {},
   "outputs": [
    {
     "data": {
      "text/plain": [
       "Node                                            S_nST0\n",
       "Code                                            S_nST0\n",
       "NomV_kV                                              0\n",
       "Equip                                                 \n",
       "Size_kVA                                        300000\n",
       "E_kWh                                        7.884e+08\n",
       "Ppeak_kW                                        300000\n",
       "Qpeak_kVAr                                      300000\n",
       "MaxNumOut                                           12\n",
       "InvCOut                                         729000\n",
       "InvC                                                 0\n",
       "PMainC                                               0\n",
       "PMainT                                               0\n",
       "CMainC                                               0\n",
       "NmaxTransf                                           2\n",
       "geometry_object               POINT (622703 4007590.1)\n",
       "geometry_layer                       TransSubstation_N\n",
       "geometry_proj4     +proj=longlat +datum=WGS84 +no_defs\n",
       "Name: 0, dtype: object"
      ]
     },
     "execution_count": 9,
     "metadata": {},
     "output_type": "execute_result"
    }
   ],
   "source": [
    "import geotable\n",
    "t = geotable.load('/tmp/greensboro-synthetic-network/GSO_RNM_GIS_Network/Rural/TransSubstation_N.shp')\n",
    "t.iloc[0]"
   ]
  },
  {
   "cell_type": "code",
   "execution_count": 10,
   "metadata": {},
   "outputs": [],
   "source": [
    "type_by_name = {\n",
    "    'DistribTransf_N': 'transformer',\n",
    "    'DummyEquip': 'miscellaneous',\n",
    "    'HVMVSubstation_N': 'substation',\n",
    "    'Line_N': 'line',\n",
    "    'Network_NEW_nodes': '',\n",
    "    'NewConsumerGreenfield_N': 'meter',\n",
    "    'SwitchingDevices_N': 'switch',\n",
    "    'TransSubstation_N': 'substation',\n",
    "    'Transformer_N': 'transformer',\n",
    "    'VoltageRegulator_N': 'quality',\n",
    "}"
   ]
  },
  {
   "cell_type": "code",
   "execution_count": 11,
   "metadata": {},
   "outputs": [
    {
     "name": "stdout",
     "output_type": "stream",
     "text": [
      "/tmp/greensboro-synthetic-network/GSO_RNM_GIS_Network/Rural/Network_NEW_nodes.shp\n",
      "/tmp/greensboro-synthetic-network/GSO_RNM_GIS_Network/Rural/DummyEquip.shp\n"
     ]
    }
   ],
   "source": [
    "# Make node lookup dictionary\n",
    "from collections import defaultdict\n",
    "from invisibleroads_macros.disk import get_file_stem\n",
    "\n",
    "excluded_prefixes = [\n",
    "    'StreetMap_',\n",
    "    'Network_',\n",
    "    'Dummy',\n",
    "    'Line',\n",
    "]\n",
    "\n",
    "def should_skip(path):\n",
    "    source_stem = get_file_stem(source_path)\n",
    "    for prefix in excluded_prefixes:\n",
    "        if source_stem.startswith(prefix):\n",
    "            return True\n",
    "    return False\n",
    "    \n",
    "node_by_code = defaultdict(dict)\n",
    "\n",
    "source_names = [\n",
    "    'Network_NEW_nodes.shp',\n",
    "    'DummyEquip.shp']\n",
    "for source_name in source_names:\n",
    "    source_path = join(source_folder, source_name)\n",
    "    print(source_path)\n",
    "    t = geotable.load(source_path)\n",
    "    t.set_index(['Node'], inplace=True)\n",
    "    type_name = type_by_name[get_file_stem(source_path)]\n",
    "    for code, row in t.iterrows():\n",
    "        d = dict(row)\n",
    "        d['geometry_layer'] = type_name\n",
    "        node_by_code[code].update(d)\n",
    "        \n",
    "for source_path in source_paths:\n",
    "    if should_skip(source_path):\n",
    "        continue\n",
    "    t = geotable.load(source_path)\n",
    "    t.set_index(['Code'], inplace=True)\n",
    "    type_name = type_by_name[get_file_stem(source_path)]\n",
    "    for code, row in t.iterrows():\n",
    "        d = dict(row)\n",
    "        d['geometry_layer'] = type_name\n",
    "        node_by_code[code].update(d)"
   ]
  },
  {
   "cell_type": "code",
   "execution_count": 12,
   "metadata": {},
   "outputs": [
    {
     "data": {
      "text/plain": [
       "20453"
      ]
     },
     "execution_count": 12,
     "metadata": {},
     "output_type": "execute_result"
    }
   ],
   "source": [
    "len(node_by_code)"
   ]
  },
  {
   "cell_type": "code",
   "execution_count": 13,
   "metadata": {},
   "outputs": [],
   "source": [
    "# Make edge lookup dictionary\n",
    "edge_by_code = defaultdict(dict)\n",
    "\n",
    "t = geotable.load('/tmp/greensboro-synthetic-network/GSO_RNM_GIS_Network/Rural/Network_NEW_branches.shp')\n",
    "t.set_index(['Node_A', 'Node_B'], inplace=True)\n",
    "for code, row in t.iterrows():\n",
    "    d = dict(row)\n",
    "    d['geometry_layer'] = ''\n",
    "    edge_by_code[code].update(d)\n",
    "    \n",
    "t = geotable.load('/tmp/greensboro-synthetic-network/GSO_RNM_GIS_Network/Rural/Line_N.shp')\n",
    "t.set_index(['NodeA', 'NodeB'], inplace=True)\n",
    "for code, row in t.iterrows():\n",
    "    d = dict(row)\n",
    "    d['geometry_layer'] = 'line'\n",
    "    edge_by_code[code].update(d)"
   ]
  },
  {
   "cell_type": "code",
   "execution_count": 14,
   "metadata": {},
   "outputs": [
    {
     "data": {
      "text/plain": [
       "16392"
      ]
     },
     "execution_count": 14,
     "metadata": {},
     "output_type": "execute_result"
    }
   ],
   "source": [
    "len(edge_by_code)"
   ]
  },
  {
   "cell_type": "code",
   "execution_count": 15,
   "metadata": {},
   "outputs": [],
   "source": [
    "# Add edges from branches\n",
    "import networkx as nx\n",
    "g = nx.Graph()\n",
    "for node, d in node_by_code.items():\n",
    "    g.add_node(node, **d)\n",
    "for (node_a, node_b), d in edge_by_code.items():\n",
    "    g.add_edge(node_a, node_b, **d)"
   ]
  },
  {
   "cell_type": "code",
   "execution_count": 16,
   "metadata": {},
   "outputs": [
    {
     "data": {
      "text/plain": [
       "20453"
      ]
     },
     "execution_count": 16,
     "metadata": {},
     "output_type": "execute_result"
    }
   ],
   "source": [
    "len(g)"
   ]
  },
  {
   "cell_type": "code",
   "execution_count": 18,
   "metadata": {},
   "outputs": [],
   "source": [
    "nx.write_gpickle(g, 'example.pkl', -1)"
   ]
  },
  {
   "cell_type": "code",
   "execution_count": 20,
   "metadata": {},
   "outputs": [
    {
     "name": "stdout",
     "output_type": "stream",
     "text": [
      "total 19420\n",
      "-rw-rw-r--. 1 rhh rhh 19790309 Dec 26 15:51  example.pkl\n",
      "-rw-rw-r--. 1 rhh rhh    45981 Dec 26 14:04 'Import Example Dataset 20181222.ipynb'\n",
      "-rw-rw-r--. 1 rhh rhh    32983 Dec 26 15:51 'Import Example Dataset 20181226.ipynb'\n",
      "-rw-rw-r--. 1 rhh rhh     1530 Dec 25 15:00  proj4s.txt\n",
      "-rw-rw-r--. 1 rhh rhh     2403 Dec 26 14:33  save_geojson.py\n"
     ]
    }
   ],
   "source": [
    "ls -l"
   ]
  }
 ],
 "metadata": {
  "kernelspec": {
   "display_name": "Python 3",
   "language": "python",
   "name": "python3"
  },
  "language_info": {
   "codemirror_mode": {
    "name": "ipython",
    "version": 3
   },
   "file_extension": ".py",
   "mimetype": "text/x-python",
   "name": "python",
   "nbconvert_exporter": "python",
   "pygments_lexer": "ipython3",
   "version": "3.6.5"
  }
 },
 "nbformat": 4,
 "nbformat_minor": 2
}
