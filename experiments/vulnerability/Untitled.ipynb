{
 "cells": [
  {
   "cell_type": "code",
   "execution_count": 1,
   "metadata": {},
   "outputs": [],
   "source": [
    "from urllib.request import urlretrieve as download"
   ]
  },
  {
   "cell_type": "code",
   "execution_count": 5,
   "metadata": {},
   "outputs": [],
   "source": [
    "base_url = 'https://nvd.nist.gov/feeds/json/cve/1.0/'\n",
    "annual_name = 'nvdcve-1.0-2019.json.zip'\n",
    "recent_name = 'nvdcve-1.0-recent.json.zip'\n",
    "modified_name = 'nvdcve-1.0-modified.json.zip'"
   ]
  },
  {
   "cell_type": "code",
   "execution_count": 19,
   "metadata": {},
   "outputs": [],
   "source": [
    "import json\n",
    "from glob import glob\n",
    "from invisibleroads_macros.disk import uncompress\n",
    "from os.path import exists, join\n",
    "target_folder = '/tmp'\n",
    "\n",
    "def get_feed(name):\n",
    "    source_url = join(base_url, name)\n",
    "    target_path = join(target_folder, name)\n",
    "    if not exists(target_path):\n",
    "        download(source_url, target_path)\n",
    "    archive_folder = uncompress(target_path)\n",
    "    json_paths = glob(join(archive_folder, '*.json'))\n",
    "    json_path = json_paths[0]\n",
    "    return json.load(open(json_path, 'rt'))\n",
    "\n",
    "annual_feed = get_feed(annual_name)\n",
    "recent_feed = get_feed(recent_name)\n",
    "modified_feed = get_feed(modified_name)"
   ]
  },
  {
   "cell_type": "code",
   "execution_count": 21,
   "metadata": {},
   "outputs": [
    {
     "data": {
      "text/plain": [
       "dict_keys(['CVE_data_type', 'CVE_data_format', 'CVE_data_version', 'CVE_data_numberOfCVEs', 'CVE_data_timestamp', 'CVE_Items'])"
      ]
     },
     "execution_count": 21,
     "metadata": {},
     "output_type": "execute_result"
    }
   ],
   "source": [
    "annual_feed.keys()"
   ]
  },
  {
   "cell_type": "code",
   "execution_count": 22,
   "metadata": {},
   "outputs": [
    {
     "data": {
      "text/plain": [
       "'CVE'"
      ]
     },
     "execution_count": 22,
     "metadata": {},
     "output_type": "execute_result"
    }
   ],
   "source": [
    "annual_feed['CVE_data_type']"
   ]
  },
  {
   "cell_type": "code",
   "execution_count": 23,
   "metadata": {},
   "outputs": [
    {
     "data": {
      "text/plain": [
       "'MITRE'"
      ]
     },
     "execution_count": 23,
     "metadata": {},
     "output_type": "execute_result"
    }
   ],
   "source": [
    "annual_feed['CVE_data_format']"
   ]
  },
  {
   "cell_type": "code",
   "execution_count": 24,
   "metadata": {},
   "outputs": [
    {
     "data": {
      "text/plain": [
       "'4.0'"
      ]
     },
     "execution_count": 24,
     "metadata": {},
     "output_type": "execute_result"
    }
   ],
   "source": [
    "annual_feed['CVE_data_version']"
   ]
  },
  {
   "cell_type": "code",
   "execution_count": 25,
   "metadata": {},
   "outputs": [
    {
     "data": {
      "text/plain": [
       "'1319'"
      ]
     },
     "execution_count": 25,
     "metadata": {},
     "output_type": "execute_result"
    }
   ],
   "source": [
    "annual_feed['CVE_data_numberOfCVEs']"
   ]
  },
  {
   "cell_type": "code",
   "execution_count": 26,
   "metadata": {},
   "outputs": [
    {
     "data": {
      "text/plain": [
       "'2019-03-09T08:00Z'"
      ]
     },
     "execution_count": 26,
     "metadata": {},
     "output_type": "execute_result"
    }
   ],
   "source": [
    "annual_feed['CVE_data_timestamp']"
   ]
  },
  {
   "cell_type": "code",
   "execution_count": 29,
   "metadata": {},
   "outputs": [
    {
     "data": {
      "text/plain": [
       "dict_keys(['cve', 'configurations', 'impact', 'publishedDate', 'lastModifiedDate'])"
      ]
     },
     "execution_count": 29,
     "metadata": {},
     "output_type": "execute_result"
    }
   ],
   "source": [
    "annual_feed['CVE_Items'][0].keys()"
   ]
  },
  {
   "cell_type": "code",
   "execution_count": 37,
   "metadata": {},
   "outputs": [
    {
     "data": {
      "text/plain": [
       "'2019-02-14T18:35Z'"
      ]
     },
     "execution_count": 37,
     "metadata": {},
     "output_type": "execute_result"
    }
   ],
   "source": [
    "annual_feed['CVE_Items'][0]['lastModifiedDate']"
   ]
  },
  {
   "cell_type": "code",
   "execution_count": 38,
   "metadata": {},
   "outputs": [
    {
     "data": {
      "text/plain": [
       "'2019-01-15T21:29Z'"
      ]
     },
     "execution_count": 38,
     "metadata": {},
     "output_type": "execute_result"
    }
   ],
   "source": [
    "annual_feed['CVE_Items'][0]['publishedDate']"
   ]
  },
  {
   "cell_type": "code",
   "execution_count": 39,
   "metadata": {},
   "outputs": [
    {
     "data": {
      "text/plain": [
       "dict_keys(['baseMetricV3', 'baseMetricV2'])"
      ]
     },
     "execution_count": 39,
     "metadata": {},
     "output_type": "execute_result"
    }
   ],
   "source": [
    "annual_feed['CVE_Items'][0]['impact'].keys()"
   ]
  },
  {
   "cell_type": "code",
   "execution_count": 40,
   "metadata": {},
   "outputs": [
    {
     "data": {
      "text/plain": [
       "{'cvssV3': {'attackComplexity': 'HIGH',\n",
       "  'attackVector': 'NETWORK',\n",
       "  'availabilityImpact': 'HIGH',\n",
       "  'baseScore': 5.9,\n",
       "  'baseSeverity': 'MEDIUM',\n",
       "  'confidentialityImpact': 'NONE',\n",
       "  'integrityImpact': 'NONE',\n",
       "  'privilegesRequired': 'NONE',\n",
       "  'scope': 'UNCHANGED',\n",
       "  'userInteraction': 'NONE',\n",
       "  'vectorString': 'CVSS:3.0/AV:N/AC:H/PR:N/UI:N/S:U/C:N/I:N/A:H',\n",
       "  'version': '3.0'},\n",
       " 'exploitabilityScore': 2.2,\n",
       " 'impactScore': 3.6}"
      ]
     },
     "execution_count": 40,
     "metadata": {},
     "output_type": "execute_result"
    }
   ],
   "source": [
    "annual_feed['CVE_Items'][0]['impact']['baseMetricV3']"
   ]
  },
  {
   "cell_type": "code",
   "execution_count": 41,
   "metadata": {},
   "outputs": [
    {
     "data": {
      "text/plain": [
       "{'acInsufInfo': False,\n",
       " 'cvssV2': {'accessComplexity': 'MEDIUM',\n",
       "  'accessVector': 'NETWORK',\n",
       "  'authentication': 'NONE',\n",
       "  'availabilityImpact': 'COMPLETE',\n",
       "  'baseScore': 7.1,\n",
       "  'confidentialityImpact': 'NONE',\n",
       "  'integrityImpact': 'NONE',\n",
       "  'vectorString': 'AV:N/AC:M/Au:N/C:N/I:N/A:C',\n",
       "  'version': '2.0'},\n",
       " 'exploitabilityScore': 8.6,\n",
       " 'impactScore': 6.9,\n",
       " 'obtainAllPrivilege': False,\n",
       " 'obtainOtherPrivilege': False,\n",
       " 'obtainUserPrivilege': False,\n",
       " 'severity': 'HIGH',\n",
       " 'userInteractionRequired': False}"
      ]
     },
     "execution_count": 41,
     "metadata": {},
     "output_type": "execute_result"
    }
   ],
   "source": [
    "annual_feed['CVE_Items'][0]['impact']['baseMetricV2']"
   ]
  },
  {
   "cell_type": "code",
   "execution_count": null,
   "metadata": {},
   "outputs": [],
   "source": []
  },
  {
   "cell_type": "code",
   "execution_count": 35,
   "metadata": {},
   "outputs": [
    {
     "data": {
      "text/plain": [
       "{'CVE_data_version': '4.0',\n",
       " 'nodes': [{'cpe_match': [{'cpe23Uri': 'cpe:2.3:o:juniper:junos:16.1:*:*:*:*:*:*:*',\n",
       "     'vulnerable': True},\n",
       "    {'cpe23Uri': 'cpe:2.3:o:juniper:junos:16.1:r1:*:*:*:*:*:*',\n",
       "     'vulnerable': True},\n",
       "    {'cpe23Uri': 'cpe:2.3:o:juniper:junos:16.1:r2:*:*:*:*:*:*',\n",
       "     'vulnerable': True},\n",
       "    {'cpe23Uri': 'cpe:2.3:o:juniper:junos:16.1:r3:*:*:*:*:*:*',\n",
       "     'vulnerable': True},\n",
       "    {'cpe23Uri': 'cpe:2.3:o:juniper:junos:16.1:r3-s10:*:*:*:*:*:*',\n",
       "     'vulnerable': True},\n",
       "    {'cpe23Uri': 'cpe:2.3:o:juniper:junos:16.1:r4:*:*:*:*:*:*',\n",
       "     'vulnerable': True},\n",
       "    {'cpe23Uri': 'cpe:2.3:o:juniper:junos:16.1:r5:*:*:*:*:*:*',\n",
       "     'vulnerable': True},\n",
       "    {'cpe23Uri': 'cpe:2.3:o:juniper:junos:16.1:r6:*:*:*:*:*:*',\n",
       "     'vulnerable': True},\n",
       "    {'cpe23Uri': 'cpe:2.3:o:juniper:junos:16.1:r6-s6:*:*:*:*:*:*',\n",
       "     'vulnerable': True},\n",
       "    {'cpe23Uri': 'cpe:2.3:o:juniper:junos:16.1:r7:*:*:*:*:*:*',\n",
       "     'vulnerable': True}],\n",
       "   'operator': 'OR'},\n",
       "  {'cpe_match': [{'cpe23Uri': 'cpe:2.3:o:juniper:junos:16.2:*:*:*:*:*:*:*',\n",
       "     'vulnerable': True},\n",
       "    {'cpe23Uri': 'cpe:2.3:o:juniper:junos:16.2:r1:*:*:*:*:*:*',\n",
       "     'vulnerable': True},\n",
       "    {'cpe23Uri': 'cpe:2.3:o:juniper:junos:16.2:r2:*:*:*:*:*:*',\n",
       "     'vulnerable': True}],\n",
       "   'operator': 'OR'},\n",
       "  {'cpe_match': [{'cpe23Uri': 'cpe:2.3:o:juniper:junos:17.1:*:*:*:*:*:*:*',\n",
       "     'vulnerable': True},\n",
       "    {'cpe23Uri': 'cpe:2.3:o:juniper:junos:17.1:r1:*:*:*:*:*:*',\n",
       "     'vulnerable': True},\n",
       "    {'cpe23Uri': 'cpe:2.3:o:juniper:junos:17.1:r2:*:*:*:*:*:*',\n",
       "     'vulnerable': True}],\n",
       "   'operator': 'OR'},\n",
       "  {'cpe_match': [{'cpe23Uri': 'cpe:2.3:o:juniper:junos:17.2:*:*:*:*:*:*:*',\n",
       "     'vulnerable': True},\n",
       "    {'cpe23Uri': 'cpe:2.3:o:juniper:junos:17.2:r1:*:*:*:*:*:*',\n",
       "     'vulnerable': True},\n",
       "    {'cpe23Uri': 'cpe:2.3:o:juniper:junos:17.2:r1-s7:*:*:*:*:*:*',\n",
       "     'vulnerable': True},\n",
       "    {'cpe23Uri': 'cpe:2.3:o:juniper:junos:17.2:r2:*:*:*:*:*:*',\n",
       "     'vulnerable': True}],\n",
       "   'operator': 'OR'},\n",
       "  {'cpe_match': [{'cpe23Uri': 'cpe:2.3:o:juniper:junos:17.3:*:*:*:*:*:*:*',\n",
       "     'vulnerable': True},\n",
       "    {'cpe23Uri': 'cpe:2.3:o:juniper:junos:17.3:r1:*:*:*:*:*:*',\n",
       "     'vulnerable': True},\n",
       "    {'cpe23Uri': 'cpe:2.3:o:juniper:junos:17.3:r2:*:*:*:*:*:*',\n",
       "     'vulnerable': True}],\n",
       "   'operator': 'OR'},\n",
       "  {'cpe_match': [{'cpe23Uri': 'cpe:2.3:o:juniper:junos:17.4:*:*:*:*:*:*:*',\n",
       "     'vulnerable': True},\n",
       "    {'cpe23Uri': 'cpe:2.3:o:juniper:junos:17.4:r1:*:*:*:*:*:*',\n",
       "     'vulnerable': True}],\n",
       "   'operator': 'OR'},\n",
       "  {'cpe_match': [{'cpe23Uri': 'cpe:2.3:a:juniper:junos:18.1:*:*:*:*:*:*:*',\n",
       "     'vulnerable': True},\n",
       "    {'cpe23Uri': 'cpe:2.3:a:juniper:junos:18.1:r1:*:*:*:*:*:*',\n",
       "     'vulnerable': True},\n",
       "    {'cpe23Uri': 'cpe:2.3:a:juniper:junos:18.1:r2:*:*:*:*:*:*',\n",
       "     'vulnerable': True}],\n",
       "   'operator': 'OR'},\n",
       "  {'cpe_match': [{'cpe23Uri': 'cpe:2.3:a:juniper:junos:18.2:*:*:*:*:*:*:*',\n",
       "     'vulnerable': True},\n",
       "    {'cpe23Uri': 'cpe:2.3:a:juniper:junos:18.2:r1-s3:*:*:*:*:*:*',\n",
       "     'vulnerable': True},\n",
       "    {'cpe23Uri': 'cpe:2.3:a:juniper:junos:18.2:r1-s4:*:*:*:*:*:*',\n",
       "     'vulnerable': True}],\n",
       "   'operator': 'OR'}]}"
      ]
     },
     "execution_count": 35,
     "metadata": {},
     "output_type": "execute_result"
    }
   ],
   "source": [
    "annual_feed['CVE_Items'][0]['configurations']"
   ]
  },
  {
   "cell_type": "code",
   "execution_count": null,
   "metadata": {},
   "outputs": [],
   "source": []
  },
  {
   "cell_type": "code",
   "execution_count": 34,
   "metadata": {},
   "outputs": [
    {
     "data": {
      "text/plain": [
       "{'CVE_data_meta': {'ASSIGNER': 'cve@mitre.org', 'ID': 'CVE-2019-0001'},\n",
       " 'affects': {'vendor': {'vendor_data': [{'product': {'product_data': [{'product_name': 'junos',\n",
       "        'version': {'version_data': [{'version_affected': '=',\n",
       "           'version_value': '18.1'},\n",
       "          {'version_affected': '=', 'version_value': '18.2'},\n",
       "          {'version_affected': '=', 'version_value': '16.1'},\n",
       "          {'version_affected': '=', 'version_value': '16.2'},\n",
       "          {'version_affected': '=', 'version_value': '17.1'},\n",
       "          {'version_affected': '=', 'version_value': '17.2'},\n",
       "          {'version_affected': '=', 'version_value': '17.3'},\n",
       "          {'version_affected': '=', 'version_value': '17.4'}]}}]},\n",
       "     'vendor_name': 'juniper'}]}},\n",
       " 'data_format': 'MITRE',\n",
       " 'data_type': 'CVE',\n",
       " 'data_version': '4.0',\n",
       " 'description': {'description_data': [{'lang': 'en',\n",
       "    'value': 'Receipt of a malformed packet on MX Series devices with dynamic vlan configuration can trigger an uncontrolled recursion loop in the Broadband Edge subscriber management daemon (bbe-smgd), and lead to high CPU usage and a crash of the bbe-smgd service. Repeated receipt of the same packet can result in an extended denial of service condition for the device. Affected releases are Juniper Networks Junos OS: 16.1 versions prior to 16.1R7-S1; 16.2 versions prior to 16.2R2-S7; 17.1 versions prior to 17.1R2-S10, 17.1R3; 17.2 versions prior to 17.2R3; 17.3 versions prior to 17.3R3-S1; 17.4 versions prior to 17.4R2; 18.1 versions prior to 18.1R3; 18.2 versions prior to 18.2R2.'}]},\n",
       " 'problemtype': {'problemtype_data': [{'description': [{'lang': 'en',\n",
       "      'value': 'CWE-400'}]}]},\n",
       " 'references': {'reference_data': [{'name': '106541',\n",
       "    'refsource': 'BID',\n",
       "    'tags': ['Third Party Advisory', 'VDB Entry'],\n",
       "    'url': 'http://www.securityfocus.com/bid/106541'},\n",
       "   {'name': 'https://kb.juniper.net/JSA10900',\n",
       "    'refsource': 'CONFIRM',\n",
       "    'tags': ['Vendor Advisory'],\n",
       "    'url': 'https://kb.juniper.net/JSA10900'}]}}"
      ]
     },
     "execution_count": 34,
     "metadata": {},
     "output_type": "execute_result"
    }
   ],
   "source": [
    "annual_feed['CVE_Items'][0]['cve']"
   ]
  },
  {
   "cell_type": "code",
   "execution_count": null,
   "metadata": {},
   "outputs": [],
   "source": []
  }
 ],
 "metadata": {
  "kernelspec": {
   "display_name": "Python 3",
   "language": "python",
   "name": "python3"
  },
  "language_info": {
   "codemirror_mode": {
    "name": "ipython",
    "version": 3
   },
   "file_extension": ".py",
   "mimetype": "text/x-python",
   "name": "python",
   "nbconvert_exporter": "python",
   "pygments_lexer": "ipython3",
   "version": "3.6.6"
  }
 },
 "nbformat": 4,
 "nbformat_minor": 2
}
