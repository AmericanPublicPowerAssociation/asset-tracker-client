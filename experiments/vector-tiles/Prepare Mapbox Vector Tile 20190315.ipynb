{
 "cells": [
  {
   "cell_type": "code",
   "execution_count": 2,
   "metadata": {},
   "outputs": [
    {
     "data": {
      "text/plain": [
       "'cpp'"
      ]
     },
     "execution_count": 2,
     "metadata": {},
     "output_type": "execute_result"
    }
   ],
   "source": [
    "# Check protobuf implementation\n",
    "from google.protobuf.internal import api_implementation\n",
    "api_implementation.Type()"
   ]
  },
  {
   "cell_type": "code",
   "execution_count": 4,
   "metadata": {},
   "outputs": [
    {
     "data": {
      "image/svg+xml": [
       "<svg xmlns=\"http://www.w3.org/2000/svg\" xmlns:xlink=\"http://www.w3.org/1999/xlink\" width=\"100.0\" height=\"100.0\" viewBox=\"-122.49419746398924 37.82838694583061 0.011216354370077397 0.005847359571006905\" preserveAspectRatio=\"xMinYMin meet\"><g transform=\"matrix(1,0,0,-1,0,75.66262125123222)\"><polyline fill=\"none\" stroke=\"#66cc99\" stroke-width=\"0.00022432708740154794\" points=\"-122.48369693756104,37.83381888486939 -122.48348236083984,37.83317489144141 -122.48339653015138,37.83270036637107 -122.48356819152832,37.832056363179625 -122.48404026031496,37.83114119107971 -122.48404026031496,37.83049717427869 -122.48348236083984,37.829920943955045 -122.48356819152832,37.82954808664175 -122.48507022857666,37.82944639795659 -122.48610019683838,37.82880236636284 -122.48695850372314,37.82931081282506 -122.48700141906738,37.83080223556934 -122.48751640319824,37.83168351665737 -122.48803138732912,37.832158048267786 -122.48888969421387,37.83297152392784 -122.48987674713133,37.83263257682617 -122.49043464660643,37.832937629287755 -122.49125003814696,37.832429207817725 -122.49163627624512,37.832564787218985 -122.49223709106445,37.83337825839438 -122.49378204345702,37.83368330777276\" opacity=\"0.8\" /></g></svg>"
      ],
      "text/plain": [
       "<shapely.geometry.linestring.LineString at 0x7f65e01cb518>"
      ]
     },
     "execution_count": 4,
     "metadata": {},
     "output_type": "execute_result"
    }
   ],
   "source": [
    "from shapely.geometry import LineString\n",
    "\n",
    "line1 = LineString([\n",
    "    [-122.48369693756104, 37.83381888486939],\n",
    "    [-122.48348236083984, 37.83317489144141],\n",
    "    [-122.48339653015138, 37.83270036637107],\n",
    "    [-122.48356819152832, 37.832056363179625],\n",
    "    [-122.48404026031496, 37.83114119107971],\n",
    "    [-122.48404026031496, 37.83049717427869],\n",
    "    [-122.48348236083984, 37.829920943955045],\n",
    "    [-122.48356819152832, 37.82954808664175],\n",
    "    [-122.48507022857666, 37.82944639795659],\n",
    "    [-122.48610019683838, 37.82880236636284],\n",
    "    [-122.48695850372314, 37.82931081282506],\n",
    "    [-122.48700141906738, 37.83080223556934],\n",
    "    [-122.48751640319824, 37.83168351665737],\n",
    "    [-122.48803138732912, 37.832158048267786],\n",
    "    [-122.48888969421387, 37.83297152392784],\n",
    "    [-122.48987674713133, 37.83263257682617],\n",
    "    [-122.49043464660643, 37.832937629287755],\n",
    "    [-122.49125003814696, 37.832429207817725],\n",
    "    [-122.49163627624512, 37.832564787218985],\n",
    "    [-122.49223709106445, 37.83337825839438],\n",
    "    [-122.49378204345702, 37.83368330777276]\n",
    "])\n",
    "line1"
   ]
  },
  {
   "cell_type": "code",
   "execution_count": 5,
   "metadata": {},
   "outputs": [
    {
     "data": {
      "image/svg+xml": [
       "<svg xmlns=\"http://www.w3.org/2000/svg\" xmlns:xlink=\"http://www.w3.org/1999/xlink\" width=\"100.0\" height=\"100.0\" viewBox=\"-122.49419746398924 37.82838694583061 0.011216354370077397 0.005847359571006905\" preserveAspectRatio=\"xMinYMin meet\"><g transform=\"matrix(1,0,0,-1,0,75.66262125123222)\"><g><polyline fill=\"none\" stroke=\"#66cc99\" stroke-width=\"0.00022432708740154794\" points=\"-122.48369693756104,37.83381888486939 -122.48348236083984,37.83317489144141 -122.48339653015138,37.83270036637107 -122.48356819152832,37.832056363179625 -122.48404026031496,37.83114119107971 -122.48404026031496,37.83049717427869 -122.48348236083984,37.829920943955045 -122.48356819152832,37.82954808664175 -122.48507022857666,37.82944639795659 -122.48610019683838,37.82880236636284 -122.48695850372314,37.82931081282506 -122.48700141906738,37.83080223556934 -122.48751640319824,37.83168351665737 -122.48803138732912,37.832158048267786 -122.48888969421387,37.83297152392784 -122.48987674713133,37.83263257682617 -122.49043464660643,37.832937629287755 -122.49125003814696,37.832429207817725 -122.49163627624512,37.832564787218985 -122.49223709106445,37.83337825839438 -122.49378204345702,37.83368330777276\" opacity=\"0.8\" /></g></g></svg>"
      ],
      "text/plain": [
       "<shapely.geometry.collection.GeometryCollection at 0x7f65ba2a71d0>"
      ]
     },
     "execution_count": 5,
     "metadata": {},
     "output_type": "execute_result"
    }
   ],
   "source": [
    "from shapely.geometry import GeometryCollection\n",
    "\n",
    "geometries = [\n",
    "    line1,\n",
    "]\n",
    "g = GeometryCollection(geometries)\n",
    "g"
   ]
  },
  {
   "cell_type": "code",
   "execution_count": 12,
   "metadata": {},
   "outputs": [],
   "source": [
    "from geotable.projections import (\n",
    "    get_transform_shapely_geometry,\n",
    "    LONGITUDE_LATITUDE_PROJ4,\n",
    "    SPHERICAL_MERCATOR_PROJ4)\n",
    "transform = get_transform_shapely_geometry(\n",
    "    LONGITUDE_LATITUDE_PROJ4, SPHERICAL_MERCATOR_PROJ4)\n",
    "transformed_g = transform(g)"
   ]
  },
  {
   "cell_type": "code",
   "execution_count": 8,
   "metadata": {},
   "outputs": [
    {
     "data": {
      "text/plain": [
       "'GEOMETRYCOLLECTION (LINESTRING (-13634822.77356694 4555976.520480986, -13634798.8869956 4555885.751509896, -13634789.33236706 4555818.869110146, -13634808.44162413 4555728.100139057, -13634860.99208108 4555599.112653832, -13634860.99208108 4555508.343682738, -13634798.8869956 4555427.129340184, -13634808.44162413 4555374.578883236, -13634975.64762351 4555360.246940433, -13635090.30316594 4555269.477969347, -13635185.84945129 4555341.137683365, -13635190.62676556 4555551.339511146, -13635247.95453678 4555675.549682113, -13635305.28230799 4555742.432081861, -13635400.82859335 4555857.087624287, -13635510.7068215 4555809.31448161, -13635572.81190699 4555852.310310024, -13635663.58087807 4555780.650596006, -13635706.57670649 4555799.759853075, -13635773.45910623 4555914.415395503, -13635945.44241988 4555957.411223917))'"
      ]
     },
     "execution_count": 8,
     "metadata": {},
     "output_type": "execute_result"
    }
   ],
   "source": [
    "transformed_g.wkt"
   ]
  },
  {
   "cell_type": "code",
   "execution_count": 21,
   "metadata": {},
   "outputs": [
    {
     "data": {
      "text/plain": [
       "'LINESTRING (-13634822.77356694 4555976.520480986, -13634798.8869956 4555885.751509896, -13634789.33236706 4555818.869110146, -13634808.44162413 4555728.100139057, -13634860.99208108 4555599.112653832, -13634860.99208108 4555508.343682738, -13634798.8869956 4555427.129340184, -13634808.44162413 4555374.578883236, -13634975.64762351 4555360.246940433, -13635090.30316594 4555269.477969347, -13635185.84945129 4555341.137683365, -13635190.62676556 4555551.339511146, -13635247.95453678 4555675.549682113, -13635305.28230799 4555742.432081861, -13635400.82859335 4555857.087624287, -13635510.7068215 4555809.31448161, -13635572.81190699 4555852.310310024, -13635663.58087807 4555780.650596006, -13635706.57670649 4555799.759853075, -13635773.45910623 4555914.415395503, -13635945.44241988 4555957.411223917)'"
      ]
     },
     "execution_count": 21,
     "metadata": {},
     "output_type": "execute_result"
    }
   ],
   "source": [
    "transform(line1).wkt"
   ]
  },
  {
   "cell_type": "code",
   "execution_count": null,
   "metadata": {},
   "outputs": [],
   "source": []
  },
  {
   "cell_type": "code",
   "execution_count": 15,
   "metadata": {},
   "outputs": [
    {
     "data": {
      "text/plain": [
       "LngLatBbox(west=-90.0, south=0.0, east=0.0, north=66.51326044311186)"
      ]
     },
     "execution_count": 15,
     "metadata": {},
     "output_type": "execute_result"
    }
   ],
   "source": [
    "import mercantile\n",
    "mercantile.bounds(1, 1, 2)"
   ]
  },
  {
   "cell_type": "code",
   "execution_count": 16,
   "metadata": {},
   "outputs": [
    {
     "data": {
      "text/plain": [
       "(-122.49378204345702,\n",
       " 37.82880236636284,\n",
       " -122.48339653015138,\n",
       " 37.83381888486939)"
      ]
     },
     "execution_count": 16,
     "metadata": {},
     "output_type": "execute_result"
    }
   ],
   "source": [
    "g.bounds"
   ]
  },
  {
   "cell_type": "code",
   "execution_count": 17,
   "metadata": {},
   "outputs": [
    {
     "data": {
      "text/plain": [
       "(-13635945.442419875,\n",
       " 4555269.4779693475,\n",
       " -13634789.332367064,\n",
       " 4555976.520480986)"
      ]
     },
     "execution_count": 17,
     "metadata": {},
     "output_type": "execute_result"
    }
   ],
   "source": [
    "transformed_g.bounds"
   ]
  },
  {
   "cell_type": "code",
   "execution_count": 18,
   "metadata": {},
   "outputs": [],
   "source": [
    "import mapbox_vector_tile as mvt"
   ]
  },
  {
   "cell_type": "code",
   "execution_count": 22,
   "metadata": {},
   "outputs": [
    {
     "data": {
      "text/plain": [
       "b'\\x1af\\n\\x07example\\x12V\\x18\\x02\"R\\t\\x94>\\x00\\xa2\\x01\\xa8\\x01\\x9c\\x08D\\x86\\x06\\x87\\x01\\x9c\\x08\\xf3\\x02\\xd6\\x0b\\x00\\x9c\\x08\\xb8\\x03\\xae\\x07C\\xe0\\x04\\x9f\\t\\xa6\\x01\\xab\\x06\\x9c\\x08\\xa5\\x05\\xbd\\x06!\\x83\\x13\\x95\\x03\\x9d\\x0b\\x95\\x03\\x87\\x06\\xa3\\x05\\xaf\\n\\x8b\\x06\\xaa\\x04\\xb7\\x03\\xf1\\x03\\x81\\x05\\xbe\\x06\\xb1\\x02\\xdd\\x01\\xd9\\x03\\xaf\\n\\xc1\\t\\xf1\\x03(\\x80 x\\x01'"
      ]
     },
     "execution_count": 22,
     "metadata": {},
     "output_type": "execute_result"
    }
   ],
   "source": [
    "transformed_geometry = transform(line1)\n",
    "mvt.encode([{\n",
    "    'name': 'example',\n",
    "    'features': [{\n",
    "        'geometry': transformed_geometry,\n",
    "        'properties': {},        \n",
    "    }],\n",
    "}], quantize_bounds=transformed_geometry.bounds)"
   ]
  },
  {
   "cell_type": "code",
   "execution_count": 28,
   "metadata": {},
   "outputs": [],
   "source": [
    "longitude, latitude = line1.centroid.coords[0]"
   ]
  },
  {
   "cell_type": "code",
   "execution_count": 32,
   "metadata": {},
   "outputs": [
    {
     "data": {
      "text/plain": [
       "Tile(x=40, y=98, z=8)"
      ]
     },
     "execution_count": 32,
     "metadata": {},
     "output_type": "execute_result"
    }
   ],
   "source": [
    "mercantile.tile(longitude, latitude, zoom=8)"
   ]
  },
  {
   "cell_type": "code",
   "execution_count": 34,
   "metadata": {},
   "outputs": [],
   "source": [
    "tile_bounds = mercantile.bounds(40, 90, 8)"
   ]
  },
  {
   "cell_type": "code",
   "execution_count": 35,
   "metadata": {},
   "outputs": [
    {
     "data": {
      "text/plain": [
       "LngLatBbox(west=-123.75, south=46.07323062540836, east=-122.34375, north=47.04018214480666)"
      ]
     },
     "execution_count": 35,
     "metadata": {},
     "output_type": "execute_result"
    }
   ],
   "source": [
    "tile_bounds"
   ]
  },
  {
   "cell_type": "code",
   "execution_count": 39,
   "metadata": {},
   "outputs": [
    {
     "data": {
      "image/svg+xml": [
       "<svg xmlns=\"http://www.w3.org/2000/svg\" xmlns:xlink=\"http://www.w3.org/1999/xlink\" width=\"100.0\" height=\"100.0\" viewBox=\"-123.80625 46.01698062540836 1.5187500000000114 1.0794515193982974\" preserveAspectRatio=\"xMinYMin meet\"><g transform=\"matrix(1,0,0,-1,0,93.113412770215)\"><path fill-rule=\"evenodd\" fill=\"#66cc99\" stroke=\"#555555\" stroke-width=\"0.030375000000000228\" opacity=\"0.6\" d=\"M -122.34375,46.07323062540836 L -122.34375,47.04018214480666 L -123.75,47.04018214480666 L -123.75,46.07323062540836 L -122.34375,46.07323062540836 z\" /></g></svg>"
      ],
      "text/plain": [
       "<shapely.geometry.polygon.Polygon at 0x7f658eaa7d30>"
      ]
     },
     "execution_count": 39,
     "metadata": {},
     "output_type": "execute_result"
    }
   ],
   "source": [
    "from shapely.geometry import box\n",
    "box(*tile_bounds)"
   ]
  }
 ],
 "metadata": {
  "kernelspec": {
   "display_name": "Python 3",
   "language": "python",
   "name": "python3"
  },
  "language_info": {
   "codemirror_mode": {
    "name": "ipython",
    "version": 3
   },
   "file_extension": ".py",
   "mimetype": "text/x-python",
   "name": "python",
   "nbconvert_exporter": "python",
   "pygments_lexer": "ipython3",
   "version": "3.6.6"
  }
 },
 "nbformat": 4,
 "nbformat_minor": 2
}
